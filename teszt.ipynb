{
    "metadata": {
        "kernelspec": {
            "display_name": "Python 3",
            "language": "python",
            "name": "python3"
        },
        "language_info": {
            "codemirror_mode": {
                "name": "ipython",
                "version": 3
            },
            "file_extension": ".py",
            "mimetype": "text/x-python",
            "name": "python",
            "nbconvert_exporter": "python",
            "pygments_lexer": "ipython3",
            "version": "3.13.0"
        }
    },
    "nbformat_minor": 2,
    "nbformat": 4,
    "cells": [
        {
            "cell_type": "code",
            "source": [
                "--1. Készítsen lekérdezést, amely sorszámozza a vendégeket a foglalások száma alapján\n",
                "--A sorszám mellett jelenjen meg a vendég szonosítója, neve és foglalások száma is\n",
                "--A legtöbbet foglaló vendég kapja az egyes sorszámot\n",
                "--Holtversen esetén a számozás annyit ugorjon ahány egyforma árték van\n",
                "--PARTITION BY\n",
                "SELECT \n",
                "    RANK() OVER (ORDER BY COUNT(F.FOGLALAS_PK) DESC) AS Sorszam,\n",
                "    V.USERNEV AS VendegID,\n",
                "    V.NEV AS VendegNeve,\n",
                "    COUNT(F.FOGLALAS_PK) AS FoglalasokSzama\n",
                "FROM Vendeg V\n",
                "LEFT JOIN Foglalas F ON V.USERNEV = F.UGYFEL_FK\n",
                "GROUP BY V.USERNEV, V.NEV\n",
                "ORDER BY FoglalasokSzama DESC;\n",
                "\n",
                ""
            ],
            "metadata": {
                "azdata_cell_guid": "a56c4699-534e-457a-95ff-4bc496184338",
                "language": "sql",
                "vscode": {
                    "languageId": "sql"
                }
            },
            "outputs": [],
            "execution_count": null
        },
        {
            "cell_type": "code",
            "source": [
                "--2. Listázzuk azon vendégek nevét, email címét és felhasználó nevét, akik egynél többször foglaltak!\n",
                "--Hagyjuk ki azokat a vendégeket, akik május hónapban születtek\n",
                "SELECT \n",
                "    V.NEV AS VendegNeve,\n",
                "    V.EMAIL AS EmailCim,\n",
                "    V.USERNEV AS FelhasznaloNev,\n",
                "    COUNT(F.FOGLALAS_PK) AS FoglalasokSzama\n",
                "FROM Vendeg V\n",
                "JOIN Foglalas F ON V.USERNEV = F.UGYFEL_FK\n",
                "WHERE MONTH(V.SZUL_DAT) != 5\n",
                "GROUP BY V.USERNEV, V.NEV, V.EMAIL\n",
                "HAVING COUNT(F.FOGLALAS_PK) > 1\n",
                "ORDER BY FoglalasokSzama DESC;"
            ],
            "metadata": {
                "azdata_cell_guid": "872f561c-06e0-4cf3-a84f-2011599a9aa2",
                "language": "sql",
                "vscode": {
                    "languageId": "sql"
                }
            },
            "outputs": [],
            "execution_count": null
        },
        {
            "cell_type": "code",
            "source": [
                "--3. Listázzuk azon vendégek adatait, akik a legtöbb férőhelyes szobát (vagy szobákat) már lefoglalták!\n",
                "--Csak a klímás szoba jöhet számításba\n",
                "WITH KlimasMaxFerohely AS (\n",
                "    SELECT MAX(FEROHELY) AS MaxFerohely\n",
                "    FROM Szoba\n",
                "    WHERE KLIMAS = 'i'\n",
                "),\n",
                "MaxFerohelyuKlimasSzobak AS (\n",
                "    SELECT SZOBA_ID\n",
                "    FROM Szoba\n",
                "    WHERE FEROHELY = (SELECT MaxFerohely FROM KlimasMaxFerohely)\n",
                "    AND KLIMAS = 'i'\n",
                "),\n",
                "VendegFoglalasok AS (\n",
                "    SELECT \n",
                "        F.UGYFEL_FK AS VendegID,\n",
                "        COUNT(DISTINCT F.SZOBA_FK) AS FoglaltMaxKlimasSzobak\n",
                "    FROM Foglalas F\n",
                "    JOIN MaxFerohelyuKlimasSzobak M ON F.SZOBA_FK = M.SZOBA_ID\n",
                "    GROUP BY F.UGYFEL_FK\n",
                ")\n",
                "SELECT \n",
                "    V.USERNEV AS FelhasznaloNev,\n",
                "    V.NEV AS VendegNeve,\n",
                "    V.EMAIL,\n",
                "    VF.FoglaltMaxKlimasSzobak,\n",
                "    (SELECT MaxFerohely FROM KlimasMaxFerohely) AS SzobaFerohely\n",
                "FROM VendegFoglalasok VF\n",
                "JOIN Vendeg V ON VF.VendegID = V.USERNEV\n",
                "ORDER BY \n",
                "    VF.FoglaltMaxKlimasSzobak DESC,\n",
                "    V.NEV;"
            ],
            "metadata": {
                "azdata_cell_guid": "46958025-5ac8-4434-bea9-2c44278a493b",
                "language": "sql",
                "vscode": {
                    "languageId": "sql"
                }
            },
            "outputs": [
                {
                    "output_type": "display_data",
                    "data": {
                        "text/html": "(3 rows affected)"
                    },
                    "metadata": {}
                },
                {
                    "output_type": "display_data",
                    "data": {
                        "text/html": "Total execution time: 00:00:00.029"
                    },
                    "metadata": {}
                },
                {
                    "output_type": "execute_result",
                    "metadata": {},
                    "execution_count": 45,
                    "data": {
                        "application/vnd.dataresource+json": {
                            "schema": {
                                "fields": [
                                    {
                                        "name": "FelhasznaloNev"
                                    },
                                    {
                                        "name": "VendegNeve"
                                    },
                                    {
                                        "name": "EMAIL"
                                    },
                                    {
                                        "name": "FoglaltMaxKlimasSzobak"
                                    },
                                    {
                                        "name": "SzobaFerohely"
                                    }
                                ]
                            },
                            "data": [
                                {
                                    "FelhasznaloNev": "PETERB",
                                    "VendegNeve": "Berendi Péter",
                                    "EMAIL": "péter.berendi@mail.hu",
                                    "FoglaltMaxKlimasSzobak": "1",
                                    "SzobaFerohely": "4"
                                },
                                {
                                    "FelhasznaloNev": "JOZSEFG",
                                    "VendegNeve": "Gyuris József",
                                    "EMAIL": "józsef.gyuris@mail.hu",
                                    "FoglaltMaxKlimasSzobak": "1",
                                    "SzobaFerohely": "4"
                                },
                                {
                                    "FelhasznaloNev": "tunde",
                                    "VendegNeve": "Turcsik Tünde",
                                    "EMAIL": "tunde@gmail.com",
                                    "FoglaltMaxKlimasSzobak": "1",
                                    "SzobaFerohely": "4"
                                }
                            ]
                        },
                        "text/html": [
                            "<table>",
                            "<tr><th>FelhasznaloNev</th><th>VendegNeve</th><th>EMAIL</th><th>FoglaltMaxKlimasSzobak</th><th>SzobaFerohely</th></tr>",
                            "<tr><td>PETERB</td><td>Berendi Péter</td><td>péter.berendi@mail.hu</td><td>1</td><td>4</td></tr>",
                            "<tr><td>JOZSEFG</td><td>Gyuris József</td><td>józsef.gyuris@mail.hu</td><td>1</td><td>4</td></tr>",
                            "<tr><td>tunde</td><td>Turcsik Tünde</td><td>tunde@gmail.com</td><td>1</td><td>4</td></tr>",
                            "</table>"
                        ]
                    }
                }
            ],
            "execution_count": 45
        },
        {
            "cell_type": "code",
            "source": [
                "--4. Listázzuk a szálláshelyek azonosítóját, nevét és helyét!\n",
                "-- A listából hagyjuk ki azokat amelynek típusa panzió vagy vendégház\n",
                "-- Egy új oszlopban jelenítsük meg, hogy a szálláshely hány napra működik (Hány nap telt el a rögzítás óta)\n",
                "SELECT \n",
                "    SZALLAS_ID AS SzallasAzonosito,\n",
                "    SZALLAS_NEV AS SzallasNeve,\n",
                "    HELY AS Hely,\n",
                "    DATEDIFF(day, ROGZ_IDO, GETDATE()) AS MűködésNapjai\n",
                "FROM Szallashely\n",
                "WHERE TIPUS NOT IN ('panzió', 'vendégház')\n",
                "ORDER BY MűködésNapjai DESC;"
            ],
            "metadata": {
                "azdata_cell_guid": "ff351f88-07fd-4a3c-be9a-1f55a346935f",
                "language": "sql",
                "vscode": {
                    "languageId": "sql"
                }
            },
            "outputs": [],
            "execution_count": null
        },
        {
            "cell_type": "code",
            "source": [
                "--5. Listázzuk \"emese\" azonosítójú ügyfél foglalásainak azonosítóit és a foglalás kezdetének dátumát!\n",
                "--Egy új oszlopban jelenítsük meg hogy mi lenne a foglalás kezdőtátuma ha azt 1 hónappal kásőbbre tolnánk!\n",
                "--Az új oszlop neve legyen 'Módosított kezdődátum'\n",
                "SELECT \n",
                "    f.FOGLALAS_PK,\n",
                "    f.METTOL,\n",
                "    DATEADD(MONTH, 1, f.METTOL) AS [Módosított kezdődátum]\n",
                "FROM Foglalas f\n",
                "JOIN Vendeg v ON f.UGYFEL_FK = v.USERNEV\n",
                "WHERE v.USERNEV = 'emese';\n",
                ""
            ],
            "metadata": {
                "azdata_cell_guid": "ce5db001-8992-4504-a869-37efbfd04966",
                "language": "sql",
                "vscode": {
                    "languageId": "sql"
                }
            },
            "outputs": [],
            "execution_count": null
        },
        {
            "cell_type": "code",
            "source": [
                "--6. Készítsen lekérdezést amely megjeleníti azon vendégek azonosítóját és nevét, akik 2017 ben többször foglaltak mint 2016-ban\n",
                "SELECT \n",
                "    f.UGYFEL_FK, \n",
                "    v.NEV\n",
                "FROM Foglalas f \n",
                "JOIN Vendeg v ON f.UGYFEL_FK = v.USERNEV\n",
                "WHERE YEAR(f.METTOL) = 2017\n",
                "GROUP BY f.UGYFEL_FK, v.NEV\n",
                "HAVING \n",
                "    COUNT(*) > (\n",
                "        SELECT COUNT(*) \n",
                "        FROM Foglalas f2 \n",
                "        WHERE \n",
                "            YEAR(f2.METTOL) = 2016 \n",
                "            AND f2.UGYFEL_FK = f.UGYFEL_FK\n",
                "    );\n",
                ""
            ],
            "metadata": {
                "azdata_cell_guid": "72a92e81-e365-4ccf-b8d9-fbe14f0a5b50",
                "language": "sql",
                "vscode": {
                    "languageId": "sql"
                }
            },
            "outputs": [],
            "execution_count": null
        },
        {
            "cell_type": "code",
            "source": [
                "--7. Készítsen lekérdezést, amely megjelíti, hogy szobánként(SZOBA_FK) hány olyan foglalás történt ahol a felnőttek száma nagyobb volt a gyerekek számánál.\n",
                "--A lekérdezés jelenítse meg a végössegeket is megfelelően jelölve\n",
                "--A lekérdezés eredménye XML-formátumban jelenjen meg, elemcentrikusan\n",
                "SELECT \n",
                "    IIF(GROUPING(SZOBA_FK) = 1, 'Összesen', CAST(SZOBA_FK AS NVARCHAR(10))) AS SZOBA_AZONOSITO,\n",
                "    COUNT(*) AS FOGLALASOK_SZAMA\n",
                "FROM Foglalas\n",
                "WHERE FELNOTT_SZAM > GYERMEK_SZAM\n",
                "GROUP BY ROLLUP(SZOBA_FK)\n",
                "FOR XML PATH('Foglalas'), ROOT('Foglalasok'), ELEMENTS;"
            ],
            "metadata": {
                "azdata_cell_guid": "7237107c-b10a-4c48-a658-e2a291720a5c",
                "language": "sql",
                "vscode": {
                    "languageId": "sql"
                }
            },
            "outputs": [
                {
                    "output_type": "display_data",
                    "data": {
                        "text/html": "(190 rows affected)"
                    },
                    "metadata": {}
                },
                {
                    "output_type": "display_data",
                    "data": {
                        "text/html": "Total execution time: 00:00:00.074"
                    },
                    "metadata": {}
                },
                {
                    "output_type": "execute_result",
                    "metadata": {},
                    "execution_count": 46,
                    "data": {
                        "application/vnd.dataresource+json": {
                            "schema": {
                                "fields": [
                                    {
                                        "name": "SZOBA_AZONOSITO"
                                    },
                                    {
                                        "name": "FOGLALASOK_SZAMA"
                                    }
                                ]
                            },
                            "data": [
                                {
                                    "SZOBA_AZONOSITO": "1",
                                    "FOGLALASOK_SZAMA": "7"
                                },
                                {
                                    "SZOBA_AZONOSITO": "2",
                                    "FOGLALASOK_SZAMA": "2"
                                },
                                {
                                    "SZOBA_AZONOSITO": "3",
                                    "FOGLALASOK_SZAMA": "3"
                                },
                                {
                                    "SZOBA_AZONOSITO": "4",
                                    "FOGLALASOK_SZAMA": "5"
                                },
                                {
                                    "SZOBA_AZONOSITO": "5",
                                    "FOGLALASOK_SZAMA": "2"
                                },
                                {
                                    "SZOBA_AZONOSITO": "6",
                                    "FOGLALASOK_SZAMA": "5"
                                },
                                {
                                    "SZOBA_AZONOSITO": "7",
                                    "FOGLALASOK_SZAMA": "6"
                                },
                                {
                                    "SZOBA_AZONOSITO": "8",
                                    "FOGLALASOK_SZAMA": "5"
                                },
                                {
                                    "SZOBA_AZONOSITO": "9",
                                    "FOGLALASOK_SZAMA": "4"
                                },
                                {
                                    "SZOBA_AZONOSITO": "10",
                                    "FOGLALASOK_SZAMA": "4"
                                },
                                {
                                    "SZOBA_AZONOSITO": "11",
                                    "FOGLALASOK_SZAMA": "4"
                                },
                                {
                                    "SZOBA_AZONOSITO": "12",
                                    "FOGLALASOK_SZAMA": "7"
                                },
                                {
                                    "SZOBA_AZONOSITO": "13",
                                    "FOGLALASOK_SZAMA": "4"
                                },
                                {
                                    "SZOBA_AZONOSITO": "14",
                                    "FOGLALASOK_SZAMA": "3"
                                },
                                {
                                    "SZOBA_AZONOSITO": "15",
                                    "FOGLALASOK_SZAMA": "4"
                                },
                                {
                                    "SZOBA_AZONOSITO": "16",
                                    "FOGLALASOK_SZAMA": "1"
                                },
                                {
                                    "SZOBA_AZONOSITO": "17",
                                    "FOGLALASOK_SZAMA": "2"
                                },
                                {
                                    "SZOBA_AZONOSITO": "18",
                                    "FOGLALASOK_SZAMA": "3"
                                },
                                {
                                    "SZOBA_AZONOSITO": "19",
                                    "FOGLALASOK_SZAMA": "4"
                                },
                                {
                                    "SZOBA_AZONOSITO": "20",
                                    "FOGLALASOK_SZAMA": "5"
                                },
                                {
                                    "SZOBA_AZONOSITO": "21",
                                    "FOGLALASOK_SZAMA": "1"
                                },
                                {
                                    "SZOBA_AZONOSITO": "22",
                                    "FOGLALASOK_SZAMA": "2"
                                },
                                {
                                    "SZOBA_AZONOSITO": "23",
                                    "FOGLALASOK_SZAMA": "3"
                                },
                                {
                                    "SZOBA_AZONOSITO": "24",
                                    "FOGLALASOK_SZAMA": "3"
                                },
                                {
                                    "SZOBA_AZONOSITO": "25",
                                    "FOGLALASOK_SZAMA": "1"
                                },
                                {
                                    "SZOBA_AZONOSITO": "27",
                                    "FOGLALASOK_SZAMA": "5"
                                },
                                {
                                    "SZOBA_AZONOSITO": "28",
                                    "FOGLALASOK_SZAMA": "5"
                                },
                                {
                                    "SZOBA_AZONOSITO": "29",
                                    "FOGLALASOK_SZAMA": "3"
                                },
                                {
                                    "SZOBA_AZONOSITO": "30",
                                    "FOGLALASOK_SZAMA": "2"
                                },
                                {
                                    "SZOBA_AZONOSITO": "31",
                                    "FOGLALASOK_SZAMA": "1"
                                },
                                {
                                    "SZOBA_AZONOSITO": "32",
                                    "FOGLALASOK_SZAMA": "1"
                                },
                                {
                                    "SZOBA_AZONOSITO": "33",
                                    "FOGLALASOK_SZAMA": "3"
                                },
                                {
                                    "SZOBA_AZONOSITO": "34",
                                    "FOGLALASOK_SZAMA": "3"
                                },
                                {
                                    "SZOBA_AZONOSITO": "35",
                                    "FOGLALASOK_SZAMA": "6"
                                },
                                {
                                    "SZOBA_AZONOSITO": "36",
                                    "FOGLALASOK_SZAMA": "4"
                                },
                                {
                                    "SZOBA_AZONOSITO": "37",
                                    "FOGLALASOK_SZAMA": "2"
                                },
                                {
                                    "SZOBA_AZONOSITO": "38",
                                    "FOGLALASOK_SZAMA": "5"
                                },
                                {
                                    "SZOBA_AZONOSITO": "39",
                                    "FOGLALASOK_SZAMA": "4"
                                },
                                {
                                    "SZOBA_AZONOSITO": "40",
                                    "FOGLALASOK_SZAMA": "3"
                                },
                                {
                                    "SZOBA_AZONOSITO": "41",
                                    "FOGLALASOK_SZAMA": "1"
                                },
                                {
                                    "SZOBA_AZONOSITO": "42",
                                    "FOGLALASOK_SZAMA": "5"
                                },
                                {
                                    "SZOBA_AZONOSITO": "43",
                                    "FOGLALASOK_SZAMA": "4"
                                },
                                {
                                    "SZOBA_AZONOSITO": "44",
                                    "FOGLALASOK_SZAMA": "6"
                                },
                                {
                                    "SZOBA_AZONOSITO": "45",
                                    "FOGLALASOK_SZAMA": "4"
                                },
                                {
                                    "SZOBA_AZONOSITO": "46",
                                    "FOGLALASOK_SZAMA": "3"
                                },
                                {
                                    "SZOBA_AZONOSITO": "47",
                                    "FOGLALASOK_SZAMA": "2"
                                },
                                {
                                    "SZOBA_AZONOSITO": "48",
                                    "FOGLALASOK_SZAMA": "6"
                                },
                                {
                                    "SZOBA_AZONOSITO": "49",
                                    "FOGLALASOK_SZAMA": "5"
                                },
                                {
                                    "SZOBA_AZONOSITO": "50",
                                    "FOGLALASOK_SZAMA": "3"
                                },
                                {
                                    "SZOBA_AZONOSITO": "51",
                                    "FOGLALASOK_SZAMA": "3"
                                },
                                {
                                    "SZOBA_AZONOSITO": "52",
                                    "FOGLALASOK_SZAMA": "5"
                                },
                                {
                                    "SZOBA_AZONOSITO": "54",
                                    "FOGLALASOK_SZAMA": "4"
                                },
                                {
                                    "SZOBA_AZONOSITO": "55",
                                    "FOGLALASOK_SZAMA": "3"
                                },
                                {
                                    "SZOBA_AZONOSITO": "56",
                                    "FOGLALASOK_SZAMA": "1"
                                },
                                {
                                    "SZOBA_AZONOSITO": "57",
                                    "FOGLALASOK_SZAMA": "3"
                                },
                                {
                                    "SZOBA_AZONOSITO": "58",
                                    "FOGLALASOK_SZAMA": "8"
                                },
                                {
                                    "SZOBA_AZONOSITO": "59",
                                    "FOGLALASOK_SZAMA": "4"
                                },
                                {
                                    "SZOBA_AZONOSITO": "60",
                                    "FOGLALASOK_SZAMA": "1"
                                },
                                {
                                    "SZOBA_AZONOSITO": "61",
                                    "FOGLALASOK_SZAMA": "4"
                                },
                                {
                                    "SZOBA_AZONOSITO": "62",
                                    "FOGLALASOK_SZAMA": "3"
                                },
                                {
                                    "SZOBA_AZONOSITO": "63",
                                    "FOGLALASOK_SZAMA": "3"
                                },
                                {
                                    "SZOBA_AZONOSITO": "64",
                                    "FOGLALASOK_SZAMA": "5"
                                },
                                {
                                    "SZOBA_AZONOSITO": "66",
                                    "FOGLALASOK_SZAMA": "3"
                                },
                                {
                                    "SZOBA_AZONOSITO": "67",
                                    "FOGLALASOK_SZAMA": "2"
                                },
                                {
                                    "SZOBA_AZONOSITO": "69",
                                    "FOGLALASOK_SZAMA": "2"
                                },
                                {
                                    "SZOBA_AZONOSITO": "70",
                                    "FOGLALASOK_SZAMA": "8"
                                },
                                {
                                    "SZOBA_AZONOSITO": "71",
                                    "FOGLALASOK_SZAMA": "2"
                                },
                                {
                                    "SZOBA_AZONOSITO": "72",
                                    "FOGLALASOK_SZAMA": "2"
                                },
                                {
                                    "SZOBA_AZONOSITO": "73",
                                    "FOGLALASOK_SZAMA": "4"
                                },
                                {
                                    "SZOBA_AZONOSITO": "74",
                                    "FOGLALASOK_SZAMA": "8"
                                },
                                {
                                    "SZOBA_AZONOSITO": "75",
                                    "FOGLALASOK_SZAMA": "2"
                                },
                                {
                                    "SZOBA_AZONOSITO": "76",
                                    "FOGLALASOK_SZAMA": "2"
                                },
                                {
                                    "SZOBA_AZONOSITO": "77",
                                    "FOGLALASOK_SZAMA": "3"
                                },
                                {
                                    "SZOBA_AZONOSITO": "78",
                                    "FOGLALASOK_SZAMA": "3"
                                },
                                {
                                    "SZOBA_AZONOSITO": "79",
                                    "FOGLALASOK_SZAMA": "4"
                                },
                                {
                                    "SZOBA_AZONOSITO": "80",
                                    "FOGLALASOK_SZAMA": "5"
                                },
                                {
                                    "SZOBA_AZONOSITO": "81",
                                    "FOGLALASOK_SZAMA": "3"
                                },
                                {
                                    "SZOBA_AZONOSITO": "82",
                                    "FOGLALASOK_SZAMA": "5"
                                },
                                {
                                    "SZOBA_AZONOSITO": "83",
                                    "FOGLALASOK_SZAMA": "5"
                                },
                                {
                                    "SZOBA_AZONOSITO": "84",
                                    "FOGLALASOK_SZAMA": "3"
                                },
                                {
                                    "SZOBA_AZONOSITO": "85",
                                    "FOGLALASOK_SZAMA": "2"
                                },
                                {
                                    "SZOBA_AZONOSITO": "86",
                                    "FOGLALASOK_SZAMA": "4"
                                },
                                {
                                    "SZOBA_AZONOSITO": "87",
                                    "FOGLALASOK_SZAMA": "5"
                                },
                                {
                                    "SZOBA_AZONOSITO": "88",
                                    "FOGLALASOK_SZAMA": "5"
                                },
                                {
                                    "SZOBA_AZONOSITO": "89",
                                    "FOGLALASOK_SZAMA": "8"
                                },
                                {
                                    "SZOBA_AZONOSITO": "90",
                                    "FOGLALASOK_SZAMA": "3"
                                },
                                {
                                    "SZOBA_AZONOSITO": "91",
                                    "FOGLALASOK_SZAMA": "2"
                                },
                                {
                                    "SZOBA_AZONOSITO": "92",
                                    "FOGLALASOK_SZAMA": "5"
                                },
                                {
                                    "SZOBA_AZONOSITO": "93",
                                    "FOGLALASOK_SZAMA": "3"
                                },
                                {
                                    "SZOBA_AZONOSITO": "94",
                                    "FOGLALASOK_SZAMA": "6"
                                },
                                {
                                    "SZOBA_AZONOSITO": "95",
                                    "FOGLALASOK_SZAMA": "3"
                                },
                                {
                                    "SZOBA_AZONOSITO": "96",
                                    "FOGLALASOK_SZAMA": "6"
                                },
                                {
                                    "SZOBA_AZONOSITO": "97",
                                    "FOGLALASOK_SZAMA": "5"
                                },
                                {
                                    "SZOBA_AZONOSITO": "98",
                                    "FOGLALASOK_SZAMA": "4"
                                },
                                {
                                    "SZOBA_AZONOSITO": "99",
                                    "FOGLALASOK_SZAMA": "4"
                                },
                                {
                                    "SZOBA_AZONOSITO": "100",
                                    "FOGLALASOK_SZAMA": "2"
                                },
                                {
                                    "SZOBA_AZONOSITO": "101",
                                    "FOGLALASOK_SZAMA": "1"
                                },
                                {
                                    "SZOBA_AZONOSITO": "102",
                                    "FOGLALASOK_SZAMA": "1"
                                },
                                {
                                    "SZOBA_AZONOSITO": "103",
                                    "FOGLALASOK_SZAMA": "1"
                                },
                                {
                                    "SZOBA_AZONOSITO": "104",
                                    "FOGLALASOK_SZAMA": "3"
                                },
                                {
                                    "SZOBA_AZONOSITO": "106",
                                    "FOGLALASOK_SZAMA": "4"
                                },
                                {
                                    "SZOBA_AZONOSITO": "107",
                                    "FOGLALASOK_SZAMA": "4"
                                },
                                {
                                    "SZOBA_AZONOSITO": "108",
                                    "FOGLALASOK_SZAMA": "1"
                                },
                                {
                                    "SZOBA_AZONOSITO": "109",
                                    "FOGLALASOK_SZAMA": "2"
                                },
                                {
                                    "SZOBA_AZONOSITO": "110",
                                    "FOGLALASOK_SZAMA": "5"
                                },
                                {
                                    "SZOBA_AZONOSITO": "111",
                                    "FOGLALASOK_SZAMA": "1"
                                },
                                {
                                    "SZOBA_AZONOSITO": "112",
                                    "FOGLALASOK_SZAMA": "4"
                                },
                                {
                                    "SZOBA_AZONOSITO": "113",
                                    "FOGLALASOK_SZAMA": "2"
                                },
                                {
                                    "SZOBA_AZONOSITO": "114",
                                    "FOGLALASOK_SZAMA": "1"
                                },
                                {
                                    "SZOBA_AZONOSITO": "115",
                                    "FOGLALASOK_SZAMA": "5"
                                },
                                {
                                    "SZOBA_AZONOSITO": "117",
                                    "FOGLALASOK_SZAMA": "4"
                                },
                                {
                                    "SZOBA_AZONOSITO": "118",
                                    "FOGLALASOK_SZAMA": "2"
                                },
                                {
                                    "SZOBA_AZONOSITO": "119",
                                    "FOGLALASOK_SZAMA": "4"
                                },
                                {
                                    "SZOBA_AZONOSITO": "120",
                                    "FOGLALASOK_SZAMA": "2"
                                },
                                {
                                    "SZOBA_AZONOSITO": "121",
                                    "FOGLALASOK_SZAMA": "5"
                                },
                                {
                                    "SZOBA_AZONOSITO": "122",
                                    "FOGLALASOK_SZAMA": "3"
                                },
                                {
                                    "SZOBA_AZONOSITO": "123",
                                    "FOGLALASOK_SZAMA": "5"
                                },
                                {
                                    "SZOBA_AZONOSITO": "124",
                                    "FOGLALASOK_SZAMA": "4"
                                },
                                {
                                    "SZOBA_AZONOSITO": "126",
                                    "FOGLALASOK_SZAMA": "4"
                                },
                                {
                                    "SZOBA_AZONOSITO": "127",
                                    "FOGLALASOK_SZAMA": "5"
                                },
                                {
                                    "SZOBA_AZONOSITO": "129",
                                    "FOGLALASOK_SZAMA": "3"
                                },
                                {
                                    "SZOBA_AZONOSITO": "130",
                                    "FOGLALASOK_SZAMA": "5"
                                },
                                {
                                    "SZOBA_AZONOSITO": "131",
                                    "FOGLALASOK_SZAMA": "4"
                                },
                                {
                                    "SZOBA_AZONOSITO": "132",
                                    "FOGLALASOK_SZAMA": "4"
                                },
                                {
                                    "SZOBA_AZONOSITO": "133",
                                    "FOGLALASOK_SZAMA": "4"
                                },
                                {
                                    "SZOBA_AZONOSITO": "134",
                                    "FOGLALASOK_SZAMA": "4"
                                },
                                {
                                    "SZOBA_AZONOSITO": "135",
                                    "FOGLALASOK_SZAMA": "3"
                                },
                                {
                                    "SZOBA_AZONOSITO": "136",
                                    "FOGLALASOK_SZAMA": "2"
                                },
                                {
                                    "SZOBA_AZONOSITO": "137",
                                    "FOGLALASOK_SZAMA": "2"
                                },
                                {
                                    "SZOBA_AZONOSITO": "138",
                                    "FOGLALASOK_SZAMA": "5"
                                },
                                {
                                    "SZOBA_AZONOSITO": "139",
                                    "FOGLALASOK_SZAMA": "6"
                                },
                                {
                                    "SZOBA_AZONOSITO": "140",
                                    "FOGLALASOK_SZAMA": "5"
                                },
                                {
                                    "SZOBA_AZONOSITO": "141",
                                    "FOGLALASOK_SZAMA": "4"
                                },
                                {
                                    "SZOBA_AZONOSITO": "142",
                                    "FOGLALASOK_SZAMA": "1"
                                },
                                {
                                    "SZOBA_AZONOSITO": "143",
                                    "FOGLALASOK_SZAMA": "5"
                                },
                                {
                                    "SZOBA_AZONOSITO": "144",
                                    "FOGLALASOK_SZAMA": "2"
                                },
                                {
                                    "SZOBA_AZONOSITO": "145",
                                    "FOGLALASOK_SZAMA": "2"
                                },
                                {
                                    "SZOBA_AZONOSITO": "146",
                                    "FOGLALASOK_SZAMA": "3"
                                },
                                {
                                    "SZOBA_AZONOSITO": "147",
                                    "FOGLALASOK_SZAMA": "1"
                                },
                                {
                                    "SZOBA_AZONOSITO": "148",
                                    "FOGLALASOK_SZAMA": "5"
                                },
                                {
                                    "SZOBA_AZONOSITO": "149",
                                    "FOGLALASOK_SZAMA": "5"
                                },
                                {
                                    "SZOBA_AZONOSITO": "150",
                                    "FOGLALASOK_SZAMA": "6"
                                },
                                {
                                    "SZOBA_AZONOSITO": "151",
                                    "FOGLALASOK_SZAMA": "2"
                                },
                                {
                                    "SZOBA_AZONOSITO": "152",
                                    "FOGLALASOK_SZAMA": "3"
                                },
                                {
                                    "SZOBA_AZONOSITO": "153",
                                    "FOGLALASOK_SZAMA": "4"
                                },
                                {
                                    "SZOBA_AZONOSITO": "154",
                                    "FOGLALASOK_SZAMA": "3"
                                },
                                {
                                    "SZOBA_AZONOSITO": "155",
                                    "FOGLALASOK_SZAMA": "3"
                                },
                                {
                                    "SZOBA_AZONOSITO": "156",
                                    "FOGLALASOK_SZAMA": "2"
                                },
                                {
                                    "SZOBA_AZONOSITO": "157",
                                    "FOGLALASOK_SZAMA": "2"
                                },
                                {
                                    "SZOBA_AZONOSITO": "158",
                                    "FOGLALASOK_SZAMA": "3"
                                },
                                {
                                    "SZOBA_AZONOSITO": "160",
                                    "FOGLALASOK_SZAMA": "2"
                                },
                                {
                                    "SZOBA_AZONOSITO": "161",
                                    "FOGLALASOK_SZAMA": "3"
                                },
                                {
                                    "SZOBA_AZONOSITO": "162",
                                    "FOGLALASOK_SZAMA": "2"
                                },
                                {
                                    "SZOBA_AZONOSITO": "163",
                                    "FOGLALASOK_SZAMA": "5"
                                },
                                {
                                    "SZOBA_AZONOSITO": "164",
                                    "FOGLALASOK_SZAMA": "4"
                                },
                                {
                                    "SZOBA_AZONOSITO": "165",
                                    "FOGLALASOK_SZAMA": "5"
                                },
                                {
                                    "SZOBA_AZONOSITO": "166",
                                    "FOGLALASOK_SZAMA": "3"
                                },
                                {
                                    "SZOBA_AZONOSITO": "167",
                                    "FOGLALASOK_SZAMA": "2"
                                },
                                {
                                    "SZOBA_AZONOSITO": "168",
                                    "FOGLALASOK_SZAMA": "1"
                                },
                                {
                                    "SZOBA_AZONOSITO": "169",
                                    "FOGLALASOK_SZAMA": "3"
                                },
                                {
                                    "SZOBA_AZONOSITO": "170",
                                    "FOGLALASOK_SZAMA": "3"
                                },
                                {
                                    "SZOBA_AZONOSITO": "171",
                                    "FOGLALASOK_SZAMA": "5"
                                },
                                {
                                    "SZOBA_AZONOSITO": "172",
                                    "FOGLALASOK_SZAMA": "6"
                                },
                                {
                                    "SZOBA_AZONOSITO": "173",
                                    "FOGLALASOK_SZAMA": "3"
                                },
                                {
                                    "SZOBA_AZONOSITO": "174",
                                    "FOGLALASOK_SZAMA": "4"
                                },
                                {
                                    "SZOBA_AZONOSITO": "175",
                                    "FOGLALASOK_SZAMA": "3"
                                },
                                {
                                    "SZOBA_AZONOSITO": "176",
                                    "FOGLALASOK_SZAMA": "2"
                                },
                                {
                                    "SZOBA_AZONOSITO": "177",
                                    "FOGLALASOK_SZAMA": "1"
                                },
                                {
                                    "SZOBA_AZONOSITO": "178",
                                    "FOGLALASOK_SZAMA": "1"
                                },
                                {
                                    "SZOBA_AZONOSITO": "179",
                                    "FOGLALASOK_SZAMA": "2"
                                },
                                {
                                    "SZOBA_AZONOSITO": "180",
                                    "FOGLALASOK_SZAMA": "1"
                                },
                                {
                                    "SZOBA_AZONOSITO": "181",
                                    "FOGLALASOK_SZAMA": "5"
                                },
                                {
                                    "SZOBA_AZONOSITO": "182",
                                    "FOGLALASOK_SZAMA": "11"
                                },
                                {
                                    "SZOBA_AZONOSITO": "183",
                                    "FOGLALASOK_SZAMA": "3"
                                },
                                {
                                    "SZOBA_AZONOSITO": "184",
                                    "FOGLALASOK_SZAMA": "4"
                                },
                                {
                                    "SZOBA_AZONOSITO": "185",
                                    "FOGLALASOK_SZAMA": "10"
                                },
                                {
                                    "SZOBA_AZONOSITO": "186",
                                    "FOGLALASOK_SZAMA": "1"
                                },
                                {
                                    "SZOBA_AZONOSITO": "187",
                                    "FOGLALASOK_SZAMA": "6"
                                },
                                {
                                    "SZOBA_AZONOSITO": "188",
                                    "FOGLALASOK_SZAMA": "2"
                                },
                                {
                                    "SZOBA_AZONOSITO": "189",
                                    "FOGLALASOK_SZAMA": "1"
                                },
                                {
                                    "SZOBA_AZONOSITO": "190",
                                    "FOGLALASOK_SZAMA": "5"
                                },
                                {
                                    "SZOBA_AZONOSITO": "191",
                                    "FOGLALASOK_SZAMA": "3"
                                },
                                {
                                    "SZOBA_AZONOSITO": "192",
                                    "FOGLALASOK_SZAMA": "1"
                                },
                                {
                                    "SZOBA_AZONOSITO": "193",
                                    "FOGLALASOK_SZAMA": "2"
                                },
                                {
                                    "SZOBA_AZONOSITO": "194",
                                    "FOGLALASOK_SZAMA": "1"
                                },
                                {
                                    "SZOBA_AZONOSITO": "195",
                                    "FOGLALASOK_SZAMA": "5"
                                },
                                {
                                    "SZOBA_AZONOSITO": "196",
                                    "FOGLALASOK_SZAMA": "2"
                                },
                                {
                                    "SZOBA_AZONOSITO": "197",
                                    "FOGLALASOK_SZAMA": "6"
                                },
                                {
                                    "SZOBA_AZONOSITO": "198",
                                    "FOGLALASOK_SZAMA": "7"
                                },
                                {
                                    "SZOBA_AZONOSITO": "Összesen",
                                    "FOGLALASOK_SZAMA": "668"
                                }
                            ]
                        },
                        "text/html": [
                            "<table>",
                            "<tr><th>SZOBA_AZONOSITO</th><th>FOGLALASOK_SZAMA</th></tr>",
                            "<tr><td>1</td><td>7</td></tr>",
                            "<tr><td>2</td><td>2</td></tr>",
                            "<tr><td>3</td><td>3</td></tr>",
                            "<tr><td>4</td><td>5</td></tr>",
                            "<tr><td>5</td><td>2</td></tr>",
                            "<tr><td>6</td><td>5</td></tr>",
                            "<tr><td>7</td><td>6</td></tr>",
                            "<tr><td>8</td><td>5</td></tr>",
                            "<tr><td>9</td><td>4</td></tr>",
                            "<tr><td>10</td><td>4</td></tr>",
                            "<tr><td>11</td><td>4</td></tr>",
                            "<tr><td>12</td><td>7</td></tr>",
                            "<tr><td>13</td><td>4</td></tr>",
                            "<tr><td>14</td><td>3</td></tr>",
                            "<tr><td>15</td><td>4</td></tr>",
                            "<tr><td>16</td><td>1</td></tr>",
                            "<tr><td>17</td><td>2</td></tr>",
                            "<tr><td>18</td><td>3</td></tr>",
                            "<tr><td>19</td><td>4</td></tr>",
                            "<tr><td>20</td><td>5</td></tr>",
                            "<tr><td>21</td><td>1</td></tr>",
                            "<tr><td>22</td><td>2</td></tr>",
                            "<tr><td>23</td><td>3</td></tr>",
                            "<tr><td>24</td><td>3</td></tr>",
                            "<tr><td>25</td><td>1</td></tr>",
                            "<tr><td>27</td><td>5</td></tr>",
                            "<tr><td>28</td><td>5</td></tr>",
                            "<tr><td>29</td><td>3</td></tr>",
                            "<tr><td>30</td><td>2</td></tr>",
                            "<tr><td>31</td><td>1</td></tr>",
                            "<tr><td>32</td><td>1</td></tr>",
                            "<tr><td>33</td><td>3</td></tr>",
                            "<tr><td>34</td><td>3</td></tr>",
                            "<tr><td>35</td><td>6</td></tr>",
                            "<tr><td>36</td><td>4</td></tr>",
                            "<tr><td>37</td><td>2</td></tr>",
                            "<tr><td>38</td><td>5</td></tr>",
                            "<tr><td>39</td><td>4</td></tr>",
                            "<tr><td>40</td><td>3</td></tr>",
                            "<tr><td>41</td><td>1</td></tr>",
                            "<tr><td>42</td><td>5</td></tr>",
                            "<tr><td>43</td><td>4</td></tr>",
                            "<tr><td>44</td><td>6</td></tr>",
                            "<tr><td>45</td><td>4</td></tr>",
                            "<tr><td>46</td><td>3</td></tr>",
                            "<tr><td>47</td><td>2</td></tr>",
                            "<tr><td>48</td><td>6</td></tr>",
                            "<tr><td>49</td><td>5</td></tr>",
                            "<tr><td>50</td><td>3</td></tr>",
                            "<tr><td>51</td><td>3</td></tr>",
                            "<tr><td>52</td><td>5</td></tr>",
                            "<tr><td>54</td><td>4</td></tr>",
                            "<tr><td>55</td><td>3</td></tr>",
                            "<tr><td>56</td><td>1</td></tr>",
                            "<tr><td>57</td><td>3</td></tr>",
                            "<tr><td>58</td><td>8</td></tr>",
                            "<tr><td>59</td><td>4</td></tr>",
                            "<tr><td>60</td><td>1</td></tr>",
                            "<tr><td>61</td><td>4</td></tr>",
                            "<tr><td>62</td><td>3</td></tr>",
                            "<tr><td>63</td><td>3</td></tr>",
                            "<tr><td>64</td><td>5</td></tr>",
                            "<tr><td>66</td><td>3</td></tr>",
                            "<tr><td>67</td><td>2</td></tr>",
                            "<tr><td>69</td><td>2</td></tr>",
                            "<tr><td>70</td><td>8</td></tr>",
                            "<tr><td>71</td><td>2</td></tr>",
                            "<tr><td>72</td><td>2</td></tr>",
                            "<tr><td>73</td><td>4</td></tr>",
                            "<tr><td>74</td><td>8</td></tr>",
                            "<tr><td>75</td><td>2</td></tr>",
                            "<tr><td>76</td><td>2</td></tr>",
                            "<tr><td>77</td><td>3</td></tr>",
                            "<tr><td>78</td><td>3</td></tr>",
                            "<tr><td>79</td><td>4</td></tr>",
                            "<tr><td>80</td><td>5</td></tr>",
                            "<tr><td>81</td><td>3</td></tr>",
                            "<tr><td>82</td><td>5</td></tr>",
                            "<tr><td>83</td><td>5</td></tr>",
                            "<tr><td>84</td><td>3</td></tr>",
                            "<tr><td>85</td><td>2</td></tr>",
                            "<tr><td>86</td><td>4</td></tr>",
                            "<tr><td>87</td><td>5</td></tr>",
                            "<tr><td>88</td><td>5</td></tr>",
                            "<tr><td>89</td><td>8</td></tr>",
                            "<tr><td>90</td><td>3</td></tr>",
                            "<tr><td>91</td><td>2</td></tr>",
                            "<tr><td>92</td><td>5</td></tr>",
                            "<tr><td>93</td><td>3</td></tr>",
                            "<tr><td>94</td><td>6</td></tr>",
                            "<tr><td>95</td><td>3</td></tr>",
                            "<tr><td>96</td><td>6</td></tr>",
                            "<tr><td>97</td><td>5</td></tr>",
                            "<tr><td>98</td><td>4</td></tr>",
                            "<tr><td>99</td><td>4</td></tr>",
                            "<tr><td>100</td><td>2</td></tr>",
                            "<tr><td>101</td><td>1</td></tr>",
                            "<tr><td>102</td><td>1</td></tr>",
                            "<tr><td>103</td><td>1</td></tr>",
                            "<tr><td>104</td><td>3</td></tr>",
                            "<tr><td>106</td><td>4</td></tr>",
                            "<tr><td>107</td><td>4</td></tr>",
                            "<tr><td>108</td><td>1</td></tr>",
                            "<tr><td>109</td><td>2</td></tr>",
                            "<tr><td>110</td><td>5</td></tr>",
                            "<tr><td>111</td><td>1</td></tr>",
                            "<tr><td>112</td><td>4</td></tr>",
                            "<tr><td>113</td><td>2</td></tr>",
                            "<tr><td>114</td><td>1</td></tr>",
                            "<tr><td>115</td><td>5</td></tr>",
                            "<tr><td>117</td><td>4</td></tr>",
                            "<tr><td>118</td><td>2</td></tr>",
                            "<tr><td>119</td><td>4</td></tr>",
                            "<tr><td>120</td><td>2</td></tr>",
                            "<tr><td>121</td><td>5</td></tr>",
                            "<tr><td>122</td><td>3</td></tr>",
                            "<tr><td>123</td><td>5</td></tr>",
                            "<tr><td>124</td><td>4</td></tr>",
                            "<tr><td>126</td><td>4</td></tr>",
                            "<tr><td>127</td><td>5</td></tr>",
                            "<tr><td>129</td><td>3</td></tr>",
                            "<tr><td>130</td><td>5</td></tr>",
                            "<tr><td>131</td><td>4</td></tr>",
                            "<tr><td>132</td><td>4</td></tr>",
                            "<tr><td>133</td><td>4</td></tr>",
                            "<tr><td>134</td><td>4</td></tr>",
                            "<tr><td>135</td><td>3</td></tr>",
                            "<tr><td>136</td><td>2</td></tr>",
                            "<tr><td>137</td><td>2</td></tr>",
                            "<tr><td>138</td><td>5</td></tr>",
                            "<tr><td>139</td><td>6</td></tr>",
                            "<tr><td>140</td><td>5</td></tr>",
                            "<tr><td>141</td><td>4</td></tr>",
                            "<tr><td>142</td><td>1</td></tr>",
                            "<tr><td>143</td><td>5</td></tr>",
                            "<tr><td>144</td><td>2</td></tr>",
                            "<tr><td>145</td><td>2</td></tr>",
                            "<tr><td>146</td><td>3</td></tr>",
                            "<tr><td>147</td><td>1</td></tr>",
                            "<tr><td>148</td><td>5</td></tr>",
                            "<tr><td>149</td><td>5</td></tr>",
                            "<tr><td>150</td><td>6</td></tr>",
                            "<tr><td>151</td><td>2</td></tr>",
                            "<tr><td>152</td><td>3</td></tr>",
                            "<tr><td>153</td><td>4</td></tr>",
                            "<tr><td>154</td><td>3</td></tr>",
                            "<tr><td>155</td><td>3</td></tr>",
                            "<tr><td>156</td><td>2</td></tr>",
                            "<tr><td>157</td><td>2</td></tr>",
                            "<tr><td>158</td><td>3</td></tr>",
                            "<tr><td>160</td><td>2</td></tr>",
                            "<tr><td>161</td><td>3</td></tr>",
                            "<tr><td>162</td><td>2</td></tr>",
                            "<tr><td>163</td><td>5</td></tr>",
                            "<tr><td>164</td><td>4</td></tr>",
                            "<tr><td>165</td><td>5</td></tr>",
                            "<tr><td>166</td><td>3</td></tr>",
                            "<tr><td>167</td><td>2</td></tr>",
                            "<tr><td>168</td><td>1</td></tr>",
                            "<tr><td>169</td><td>3</td></tr>",
                            "<tr><td>170</td><td>3</td></tr>",
                            "<tr><td>171</td><td>5</td></tr>",
                            "<tr><td>172</td><td>6</td></tr>",
                            "<tr><td>173</td><td>3</td></tr>",
                            "<tr><td>174</td><td>4</td></tr>",
                            "<tr><td>175</td><td>3</td></tr>",
                            "<tr><td>176</td><td>2</td></tr>",
                            "<tr><td>177</td><td>1</td></tr>",
                            "<tr><td>178</td><td>1</td></tr>",
                            "<tr><td>179</td><td>2</td></tr>",
                            "<tr><td>180</td><td>1</td></tr>",
                            "<tr><td>181</td><td>5</td></tr>",
                            "<tr><td>182</td><td>11</td></tr>",
                            "<tr><td>183</td><td>3</td></tr>",
                            "<tr><td>184</td><td>4</td></tr>",
                            "<tr><td>185</td><td>10</td></tr>",
                            "<tr><td>186</td><td>1</td></tr>",
                            "<tr><td>187</td><td>6</td></tr>",
                            "<tr><td>188</td><td>2</td></tr>",
                            "<tr><td>189</td><td>1</td></tr>",
                            "<tr><td>190</td><td>5</td></tr>",
                            "<tr><td>191</td><td>3</td></tr>",
                            "<tr><td>192</td><td>1</td></tr>",
                            "<tr><td>193</td><td>2</td></tr>",
                            "<tr><td>194</td><td>1</td></tr>",
                            "<tr><td>195</td><td>5</td></tr>",
                            "<tr><td>196</td><td>2</td></tr>",
                            "<tr><td>197</td><td>6</td></tr>",
                            "<tr><td>198</td><td>7</td></tr>",
                            "<tr><td>Összesen</td><td>668</td></tr>",
                            "</table>"
                        ]
                    }
                }
            ],
            "execution_count": 46
        },
        {
            "cell_type": "code",
            "source": [
                "--8. Listázzuk, hogy szálláshely típusonként, azon belül éves és havi bontásban hány foglalás történt?\n",
                "--Az év és hónap megjelítésénél a foglalás tábla METTOL oszlopát használjuk\n",
                "--A számolásnál csak a legalább 5 napos foglalásokat vegyük figyelembe\n",
                "--Az oszlopokat nevezzük el értelemszerűen\n",
                "SELECT \n",
                "    sz.TIPUS AS SzallashelyTipus,\n",
                "    YEAR(f.METTOL) AS Ev,\n",
                "    MONTH(f.METTOL) AS Honap,\n",
                "    COUNT(*) AS FoglalasokSzama\n",
                "FROM Foglalas f\n",
                "JOIN Szoba s ON f.SZOBA_FK = s.SZOBA_ID\n",
                "JOIN Szallashely sz ON s.SZALLAS_FK = sz.SZALLAS_ID\n",
                "WHERE DATEDIFF(DAY, f.METTOL, f.MEDDIG) >= 5\n",
                "GROUP BY sz.TIPUS, YEAR(f.METTOL), MONTH(f.METTOL)\n",
                "ORDER BY sz.TIPUS, Ev, Honap;"
            ],
            "metadata": {
                "azdata_cell_guid": "8900a767-04f9-404e-ab28-ce4a9cd794eb",
                "language": "sql",
                "vscode": {
                    "languageId": "sql"
                }
            },
            "outputs": [],
            "execution_count": null
        },
        {
            "cell_type": "code",
            "source": [
                "--9. Jelenítsük meg azon ügyfelek nevét akik még sohasem foglalatak vagy volt foglalásuk de nem volt közöttük 2 napnál hosszab!\n",
                "-- 1. Azok, akiknek egyáltalán nincs foglalásuk\n",
                "SELECT DISTINCT v.NEV\n",
                "FROM Foglalas f\n",
                "RIGHT JOIN Vendeg v ON f.UGYFEL_FK = v.USERNEV\n",
                "WHERE f.FOGLALAS_PK IS NULL\n",
                "\n",
                "UNION\n",
                "\n",
                "-- 2. Azok, akiknek csak legfeljebb 2 napos foglalásaik voltak\n",
                "SELECT v.NEV\n",
                "FROM Foglalas f\n",
                "JOIN Vendeg v ON f.UGYFEL_FK = v.USERNEV\n",
                "GROUP BY v.NEV\n",
                "EXCEPT\n",
                "SELECT v.NEV\n",
                "FROM Foglalas f\n",
                "JOIN Vendeg v ON f.UGYFEL_FK = v.USERNEV\n",
                "WHERE DATEDIFF(DAY, f.METTOL, f.MEDDIG) > 2\n",
                "GROUP BY v.NEV;\n"
            ],
            "metadata": {
                "azdata_cell_guid": "ae63a345-6eb2-46a9-8860-a4e8d1de8aee",
                "language": "sql",
                "vscode": {
                    "languageId": "sql"
                }
            },
            "outputs": [],
            "execution_count": null
        },
        {
            "cell_type": "code",
            "source": [
                "--10. Az alábbi lekérdezés kiegészítésével készítsen listát arról hogy melyik ügyfél hányszor foglalt 2015 és 2016 között!\n",
                "--A listában az ügyfél neve és a foglalkozások száma jelenjen meg. A listát szűrjük azokra a tételekre ahol a foglalások száma 2-nél több.\n",
                "SELECT \n",
                "    v.NEV, \n",
                "    COUNT(*) AS DB\n",
                "FROM Foglalas f\n",
                "JOIN Vendeg v ON f.UGYFEL_FK = v.USERNEV\n",
                "WHERE YEAR(f.METTOL) BETWEEN 2015 AND 2016\n",
                "GROUP BY v.NEV\n",
                "HAVING COUNT(*) > 2;\n",
                ""
            ],
            "metadata": {
                "azdata_cell_guid": "9c90265e-77fe-4bc5-9a4c-60175f515215",
                "language": "sql",
                "vscode": {
                    "languageId": "sql"
                }
            },
            "outputs": [],
            "execution_count": null
        },
        {
            "cell_type": "code",
            "source": [
                "--Cassandra datastax\n",
                "use \"Movies\";\n",
                "desc tables;\n",
                "desc movies_and_tv;\n",
                "\n",
                "CREATE INDEX i_release_year ON movies_and_tv(release_year);\n",
                "SELECT title \n",
                "FROM movies_and_tv \n",
                "WHERE release_year = 2010\n",
                "ORDER BY rating DESC\n",
                "LIMIT 10\n",
                "ALLOW FILTERING;"
            ],
            "metadata": {
                "azdata_cell_guid": "e20fd7e6-2e9d-4f99-afdb-1665d10d3c70",
                "language": "python",
                "vscode": {
                    "languageId": "sql"
                }
            },
            "outputs": [],
            "execution_count": null
        },
        {
            "cell_type": "code",
            "source": [
                "--MongoDB Atlas sample_mflix\n",
                "--Mely felhasználók email írtak nél több kommntet?\n",
                "db.comments.aggregate([\n",
                "  {\n",
                "    $group: {\n",
                "      _id: \"$email\",\n",
                "      commentCount: { $sum: 1 }\n",
                "    }\n",
                "  },\n",
                "  {\n",
                "    $match: {\n",
                "      commentCount: { $gt: 1 }\n",
                "    }\n",
                "  },\n",
                "  {\n",
                "    $sort: {\n",
                "      commentCount: -1\n",
                "    }\n",
                "  }\n",
                "])"
            ],
            "metadata": {
                "azdata_cell_guid": "4249ba3e-6461-40fe-9404-0df28b0569da",
                "language": "python",
                "vscode": {
                    "languageId": "sql"
                }
            },
            "outputs": [],
            "execution_count": null
        },
        {
            "cell_type": "code",
            "source": [
                "--Neo4j SAndbox\n",
                "--Azok a személyek  akik nem szerepeltek egy filmben Tom Hanks-sel, egy szereplőneve csak egyszer szereplejen\n",
                "MATCH (tom:Person {name: 'Tom Hanks'})-[:ACTED_IN]->(movie:Movie)<-[:ACTED_IN]-(coactor:Person)\n",
                "WITH COLLECT(DISTINCT coactor) AS tom_coactors\n",
                "MATCH (person:Person)\n",
                "WHERE NOT person IN tom_coactors AND person.name <> 'Tom Hanks'\n",
                "RETURN DISTINCT person.name\n",
                "ORDER BY person.name"
            ],
            "metadata": {
                "azdata_cell_guid": "1231139e-1210-4dbc-9b2d-5d46a1346f95",
                "language": "python",
                "vscode": {
                    "languageId": "sql"
                }
            },
            "outputs": [],
            "execution_count": null
        },
        {
            "cell_type": "code",
            "source": [
                "--REDIS CLOUD,Új tábla létrehozása: IRO(ID, nev, nemzetiseg)KONYV(ID, cim,mufaj, IRO_ID)táblánként 2 sor adat\n",
                "HSET KONYV:1 ID 1 cim \"Harry Potter és a bölcsek köve\" mufaj \"fantasy\" IRO_ID 1\n",
                "\n",
                "HSET KONYV:2 ID 2 cim \"Ragyogás\" mufaj \"horror\" IRO_ID 2\n",
                "\n",
                "HSET IRO:1 ID 1 nev \"J.K. Rowling\" nemzetiseg \"brit\"\n",
                "\n",
                "HSET IRO:2 ID 2 nev \"Stephen King\" nemzetiseg \"amerikai\""
            ],
            "metadata": {
                "azdata_cell_guid": "e9f3fd2a-c45f-4592-b337-9628ddfb3701",
                "language": "python",
                "vscode": {
                    "languageId": "sql"
                }
            },
            "outputs": [],
            "execution_count": null
        }
    ]
}