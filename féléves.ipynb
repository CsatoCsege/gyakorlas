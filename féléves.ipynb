{
    "metadata": {
        "kernelspec": {
            "name": "SQL",
            "display_name": "SQL",
            "language": "sql"
        },
        "language_info": {
            "name": "sql",
            "version": ""
        }
    },
    "nbformat_minor": 2,
    "nbformat": 4,
    "cells": [
        {
            "cell_type": "code",
            "source": [
                "--1. Készítsen lekérdezést, amely sorszámozza a vendégeket a foglalások száma alapján\r\n",
                "--A sorszám mellett jelenjen meg a vendég szonosítója, neve és foglalások száma is\r\n",
                "--A legtöbbet foglaló vendég kapja az egyes sorszámot\r\n",
                "--Holtversen esetén a számozás annyit ugorjon ahány egyforma árték van\r\n",
                "SELECT \r\n",
                "    RANK() OVER (ORDER BY COUNT(F.FOGLALAS_PK) DESC) AS Sorszam,\r\n",
                "    V.USERNEV AS VendegID,\r\n",
                "    V.NEV AS VendegNeve,\r\n",
                "    COUNT(F.FOGLALAS_PK) AS FoglalasokSzama\r\n",
                "FROM \r\n",
                "    Vendeg V\r\n",
                "LEFT JOIN \r\n",
                "    Foglalas F ON V.USERNEV = F.UGYFEL_FK\r\n",
                "GROUP BY \r\n",
                "    V.USERNEV, V.NEV\r\n",
                "ORDER BY \r\n",
                "    FoglalasokSzama DESC;"
            ],
            "metadata": {
                "azdata_cell_guid": "a56c4699-534e-457a-95ff-4bc496184338",
                "language": "sql"
            },
            "outputs": [],
            "execution_count": null
        },
        {
            "cell_type": "code",
            "source": [
                "--2. Listázzuk azon vendégek nevét, email címét és felhasználó nevét, akik egynél többször foglaltak!\r\n",
                "--Hagyjuk ki azokat a vendégeket, akik május hónapban születtek\r\n",
                "SELECT \r\n",
                "    V.NEV AS VendegNeve,\r\n",
                "    V.EMAIL AS EmailCim,\r\n",
                "    V.USERNEV AS FelhasznaloNev,\r\n",
                "    COUNT(F.FOGLALAS_PK) AS FoglalasokSzama\r\n",
                "FROM \r\n",
                "    Vendeg V\r\n",
                "JOIN \r\n",
                "    Foglalas F ON V.USERNEV = F.UGYFEL_FK\r\n",
                "WHERE \r\n",
                "    MONTH(V.SZUL_DAT) != 5  -- Májusban születettek kizárása\r\n",
                "GROUP BY \r\n",
                "    V.USERNEV, V.NEV, V.EMAIL\r\n",
                "HAVING \r\n",
                "    COUNT(F.FOGLALAS_PK) > 1  -- Csak a több foglalással rendelkezők\r\n",
                "ORDER BY \r\n",
                "    FoglalasokSzama DESC;"
            ],
            "metadata": {
                "azdata_cell_guid": "872f561c-06e0-4cf3-a84f-2011599a9aa2",
                "language": "sql"
            },
            "outputs": [],
            "execution_count": null
        },
        {
            "cell_type": "code",
            "source": [
                "--3. Listázzuk azon vendégek adatait, akik a legtöbb férőhelyes szobát (vagy szobákat) már lefoglalták!\r\n",
                "--Csak a klímás szoba jöhet számításba\r\n",
                "WITH KlimasSzobakFoglalva AS (\r\n",
                "    SELECT \r\n",
                "        F.UGYFEL_FK AS VendegID,\r\n",
                "        SUM(S.FEROHELY) AS OsszesFerohely\r\n",
                "    FROM \r\n",
                "        Foglalas F\r\n",
                "    JOIN \r\n",
                "        Szoba S ON F.SZOBA_FK = S.SZOBA_ID\r\n",
                "    WHERE \r\n",
                "        LOWER(TRIM(S.KLIMAS)) IN ('i', 'igen', 'y', 'yes', '1', 'true')  -- Klímás szobák szűrése\r\n",
                "    GROUP BY \r\n",
                "        F.UGYFEL_FK\r\n",
                ")\r\n",
                "SELECT \r\n",
                "    V.USERNEV AS FelhasznaloNev,\r\n",
                "    V.NEV AS VendegNeve,\r\n",
                "    V.EMAIL,\r\n",
                "    K.OsszesFerohely\r\n",
                "FROM \r\n",
                "    KlimasSzobakFoglalva K\r\n",
                "JOIN \r\n",
                "    Vendeg V ON K.VendegID = V.USERNEV\r\n",
                "WHERE \r\n",
                "    K.OsszesFerohely = (SELECT MAX(OsszesFerohely) FROM KlimasSzobakFoglalva)\r\n",
                "ORDER BY \r\n",
                "    V.NEV;"
            ],
            "metadata": {
                "azdata_cell_guid": "46958025-5ac8-4434-bea9-2c44278a493b",
                "language": "sql"
            },
            "outputs": [],
            "execution_count": null
        },
        {
            "cell_type": "code",
            "source": [
                "--4. Listázzuk a szálláshelyek azonosítóját, nevét és helyét!\r\n",
                "-- A listából hagyjuk ki azokat amelynek típusa panzió vagy vendégház\r\n",
                "-- Egy új oszlopban jelenítsük meg, hogy a szálláshely hány napra működik (Hány nap telt el a rögzítás óta)\r\n",
                "SELECT \r\n",
                "    SZALLAS_ID AS SzallasAzonosito,\r\n",
                "    SZALLAS_NEV AS SzallasNeve,\r\n",
                "    HELY AS Hely,\r\n",
                "    DATEDIFF(day, ROGZ_IDO, GETDATE()) AS MűködésNapjai\r\n",
                "FROM \r\n",
                "    Szallashely\r\n",
                "WHERE \r\n",
                "    TIPUS NOT IN ('panzió', 'vendégház')\r\n",
                "ORDER BY \r\n",
                "    MűködésNapjai DESC;"
            ],
            "metadata": {
                "azdata_cell_guid": "ff351f88-07fd-4a3c-be9a-1f55a346935f",
                "language": "sql"
            },
            "outputs": [],
            "execution_count": null
        },
        {
            "cell_type": "code",
            "source": [
                "--5. Listázzuk \"emese\" azonosítójú ügyfél foglalásainak azonosítóit és a foglalás kezdetének dátumát!\r\n",
                "--Egy új oszlopban jelenítsük meg hogy mi lenne a foglalás kezdőtátuma ha azt 1 hónappal kásőbbre tolnánk!\r\n",
                "--Az új oszlop neve legyen 'Módosított kezdődátum'\r\n",
                "SELECT \r\n",
                "    f.FOGLALAS_PK,\r\n",
                "    f.METTOL,\r\n",
                "    DATEADD(MONTH, 1, f.METTOL) AS [Módosított kezdődátum]\r\n",
                "FROM \r\n",
                "    Foglalas f\r\n",
                "JOIN \r\n",
                "    Vendeg v ON f.UGYFEL_FK = v.USERNEV\r\n",
                "WHERE \r\n",
                "    v.USERNEV = 'emese';\r\n",
                ""
            ],
            "metadata": {
                "azdata_cell_guid": "ce5db001-8992-4504-a869-37efbfd04966",
                "language": "sql"
            },
            "outputs": [],
            "execution_count": null
        },
        {
            "cell_type": "code",
            "source": [
                "--Készítsen lekérdezést amely megjeleníti azon vendégek azonosítóját és nevét, akik 2017 ben többször foglaltak mint 2016-ban\r\n",
                "SELECT \r\n",
                "    f.UGYFEL_FK, \r\n",
                "    v.NEV\r\n",
                "FROM \r\n",
                "    Foglalas f \r\n",
                "JOIN \r\n",
                "    Vendeg v ON f.UGYFEL_FK = v.USERNEV\r\n",
                "WHERE \r\n",
                "    YEAR(f.METTOL) = 2017\r\n",
                "GROUP BY \r\n",
                "    f.UGYFEL_FK, v.NEV\r\n",
                "HAVING \r\n",
                "    COUNT(*) > (\r\n",
                "        SELECT COUNT(*) \r\n",
                "        FROM Foglalas f2 \r\n",
                "        WHERE \r\n",
                "            YEAR(f2.METTOL) = 2016 \r\n",
                "            AND f2.UGYFEL_FK = f.UGYFEL_FK\r\n",
                "    );\r\n",
                ""
            ],
            "metadata": {
                "azdata_cell_guid": "72a92e81-e365-4ccf-b8d9-fbe14f0a5b50",
                "language": "sql"
            },
            "outputs": [],
            "execution_count": null
        },
        {
            "cell_type": "code",
            "source": [
                "--Készítsen lekérdezést, amely megjelíti, hogy szobánként(SZOBA_FK) hány olyan foglalás történt ahol a felnőttek száma nagyobb volt a gyerekek számánál.\r\n",
                "--A lekérdezés jelenítse meg a végössegeket is megfelelően jelölve\r\n",
                "--A lekérdezés eredménye XML-formátumban jelenjen meg, elemcentrikusan\r\n",
                "SELECT \r\n",
                "    IIF(GROUPING(SZOBA_FK) = 1, 'Összesen', CAST(SZOBA_FK AS NVARCHAR(10))) AS SZOBA_AZONOSITO,\r\n",
                "    COUNT(*) AS FOGLALASOK_SZAMA\r\n",
                "FROM \r\n",
                "    Foglalas\r\n",
                "WHERE \r\n",
                "    FELNOTT_SZAM > GYERMEK_SZAM\r\n",
                "GROUP BY \r\n",
                "    ROLLUP(SZOBA_FK)\r\n",
                "FOR XML PATH('Foglalas'), ROOT('Foglalasok'), ELEMENTS;"
            ],
            "metadata": {
                "azdata_cell_guid": "7237107c-b10a-4c48-a658-e2a291720a5c",
                "language": "sql"
            },
            "outputs": [],
            "execution_count": null
        },
        {
            "cell_type": "code",
            "source": [
                "--Listázzuk, hogy szálláshely típusonként, azon belül éves és havi bontásban hány foglalás történt?\r\n",
                "--Az év és hónap megjelítésénél a foglalás tábla METTOL oszlopát használjuk\r\n",
                "--A számolásnál csak a legalább 5 napos foglalásokat vegyük figyelembe\r\n",
                "--Az oszlopokat nevezzük el értelemszerűen\r\n",
                "SELECT \r\n",
                "    sz.TIPUS AS SzallashelyTipus,\r\n",
                "    YEAR(f.METTOL) AS Ev,\r\n",
                "    MONTH(f.METTOL) AS Honap,\r\n",
                "    COUNT(*) AS FoglalasokSzama\r\n",
                "FROM \r\n",
                "    Foglalas f\r\n",
                "JOIN \r\n",
                "    Szoba s ON f.SZOBA_FK = s.SZOBA_ID\r\n",
                "JOIN \r\n",
                "    Szallashely sz ON s.SZALLAS_FK = sz.SZALLAS_ID\r\n",
                "WHERE \r\n",
                "    DATEDIFF(DAY, f.METTOL, f.MEDDIG) >= 5\r\n",
                "GROUP BY \r\n",
                "    sz.TIPUS, YEAR(f.METTOL), MONTH(f.METTOL)\r\n",
                "ORDER BY \r\n",
                "    sz.TIPUS, Ev, Honap;"
            ],
            "metadata": {
                "azdata_cell_guid": "8900a767-04f9-404e-ab28-ce4a9cd794eb",
                "language": "sql"
            },
            "outputs": [],
            "execution_count": null
        },
        {
            "cell_type": "code",
            "source": [
                "--Jelenítsük meg azon ügyfelek nevét akik még sohasem foglalatak vagy volt foglalásuk de nem volt közöttük 2 napnál hosszab!\r\n",
                "-- 1. Azok, akiknek egyáltalán nincs foglalásuk\r\n",
                "SELECT DISTINCT v.NEV\r\n",
                "FROM Foglalas f\r\n",
                "RIGHT JOIN Vendeg v ON f.UGYFEL_FK = v.USERNEV\r\n",
                "WHERE f.FOGLALAS_PK IS NULL\r\n",
                "\r\n",
                "UNION\r\n",
                "\r\n",
                "-- 2. Azok, akiknek csak legfeljebb 2 napos foglalásaik voltak\r\n",
                "SELECT v.NEV\r\n",
                "FROM Foglalas f\r\n",
                "JOIN Vendeg v ON f.UGYFEL_FK = v.USERNEV\r\n",
                "GROUP BY v.NEV\r\n",
                "EXCEPT\r\n",
                "SELECT v.NEV\r\n",
                "FROM Foglalas f\r\n",
                "JOIN Vendeg v ON f.UGYFEL_FK = v.USERNEV\r\n",
                "WHERE DATEDIFF(DAY, f.METTOL, f.MEDDIG) > 2\r\n",
                "GROUP BY v.NEV;\r\n",
                ""
            ],
            "metadata": {
                "azdata_cell_guid": "ae63a345-6eb2-46a9-8860-a4e8d1de8aee",
                "language": "sql"
            },
            "outputs": [],
            "execution_count": null
        },
        {
            "cell_type": "code",
            "source": [
                "--Az alábbi lekérdezés kiegészítésével készítsen listát arról hogy melyik ügyfél hányszor foglalt 2015 és 2016 között!\r\n",
                "--A listában az ügyfél neve és a foglalkozások száma jelenjen meg. A listát szűrjük azokra a tételekre ahol a foglalások száma 2-nél több.\r\n",
                "SELECT \r\n",
                "    v.NEV, \r\n",
                "    COUNT(*) AS DB\r\n",
                "FROM \r\n",
                "    Foglalas f\r\n",
                "JOIN \r\n",
                "    Vendeg v ON f.UGYFEL_FK = v.USERNEV\r\n",
                "WHERE \r\n",
                "    YEAR(f.METTOL) BETWEEN 2015 AND 2016\r\n",
                "GROUP BY \r\n",
                "    v.NEV\r\n",
                "HAVING \r\n",
                "    COUNT(*) > 2;\r\n",
                ""
            ],
            "metadata": {
                "azdata_cell_guid": "9c90265e-77fe-4bc5-9a4c-60175f515215",
                "language": "sql"
            },
            "outputs": [],
            "execution_count": null
        }
    ]
}