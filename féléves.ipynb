{
    "cells": [
        {
            "cell_type": "code",
            "execution_count": null,
            "metadata": {
                "azdata_cell_guid": "a56c4699-534e-457a-95ff-4bc496184338",
                "language": "sql",
                "vscode": {
                    "languageId": "sql"
                }
            },
            "outputs": [],
            "source": [
                "--1. Készítsen lekérdezést, amely sorszámozza a vendégeket a foglalások száma alapján\n",
                "--A sorszám mellett jelenjen meg a vendég szonosítója, neve és foglalások száma is\n",
                "--A legtöbbet foglaló vendég kapja az egyes sorszámot\n",
                "--Holtversen esetén a számozás annyit ugorjon ahány egyforma árték van\n",
                "SELECT \n",
                "    RANK() OVER (ORDER BY COUNT(F.FOGLALAS_PK) DESC) AS Sorszam,\n",
                "    V.USERNEV AS VendegID,\n",
                "    V.NEV AS VendegNeve,\n",
                "    COUNT(F.FOGLALAS_PK) AS FoglalasokSzama\n",
                "FROM \n",
                "    Vendeg V\n",
                "LEFT JOIN \n",
                "    Foglalas F ON V.USERNEV = F.UGYFEL_FK\n",
                "GROUP BY \n",
                "    V.USERNEV, V.NEV\n",
                "ORDER BY \n",
                "    FoglalasokSzama DESC;"
            ]
        },
        {
            "cell_type": "code",
            "execution_count": null,
            "metadata": {
                "azdata_cell_guid": "872f561c-06e0-4cf3-a84f-2011599a9aa2",
                "language": "sql",
                "vscode": {
                    "languageId": "sql"
                }
            },
            "outputs": [],
            "source": [
                "--2. Listázzuk azon vendégek nevét, email címét és felhasználó nevét, akik egynél többször foglaltak!\n",
                "--Hagyjuk ki azokat a vendégeket, akik május hónapban születtek\n",
                "SELECT \n",
                "    V.NEV AS VendegNeve,\n",
                "    V.EMAIL AS EmailCim,\n",
                "    V.USERNEV AS FelhasznaloNev,\n",
                "    COUNT(F.FOGLALAS_PK) AS FoglalasokSzama\n",
                "FROM \n",
                "    Vendeg V\n",
                "JOIN \n",
                "    Foglalas F ON V.USERNEV = F.UGYFEL_FK\n",
                "WHERE \n",
                "    MONTH(V.SZUL_DAT) != 5  -- Májusban születettek kizárása\n",
                "GROUP BY \n",
                "    V.USERNEV, V.NEV, V.EMAIL\n",
                "HAVING \n",
                "    COUNT(F.FOGLALAS_PK) > 1  -- Csak a több foglalással rendelkezők\n",
                "ORDER BY \n",
                "    FoglalasokSzama DESC;"
            ]
        },
        {
            "cell_type": "code",
            "execution_count": null,
            "metadata": {
                "azdata_cell_guid": "46958025-5ac8-4434-bea9-2c44278a493b",
                "language": "sql",
                "vscode": {
                    "languageId": "sql"
                }
            },
            "outputs": [],
            "source": [
                "--3. Listázzuk azon vendégek adatait, akik a legtöbb férőhelyes szobát (vagy szobákat) már lefoglalták!\n",
                "--Csak a klímás szoba jöhet számításba\n",
                "WITH KlimasSzobakFoglalva AS (\n",
                "    SELECT \n",
                "        F.UGYFEL_FK AS VendegID,\n",
                "        SUM(S.FEROHELY) AS OsszesFerohely\n",
                "    FROM \n",
                "        Foglalas F\n",
                "    JOIN \n",
                "        Szoba S ON F.SZOBA_FK = S.SZOBA_ID\n",
                "    WHERE \n",
                "        LOWER(TRIM(S.KLIMAS)) IN ('i', 'igen', 'y', 'yes', '1', 'true')  -- Klímás szobák szűrése\n",
                "    GROUP BY \n",
                "        F.UGYFEL_FK\n",
                ")\n",
                "SELECT \n",
                "    V.USERNEV AS FelhasznaloNev,\n",
                "    V.NEV AS VendegNeve,\n",
                "    V.EMAIL,\n",
                "    K.OsszesFerohely\n",
                "FROM \n",
                "    KlimasSzobakFoglalva K\n",
                "JOIN \n",
                "    Vendeg V ON K.VendegID = V.USERNEV\n",
                "WHERE \n",
                "    K.OsszesFerohely = (SELECT MAX(OsszesFerohely) FROM KlimasSzobakFoglalva)\n",
                "ORDER BY \n",
                "    V.NEV;"
            ]
        },
        {
            "cell_type": "code",
            "execution_count": null,
            "metadata": {
                "azdata_cell_guid": "ff351f88-07fd-4a3c-be9a-1f55a346935f",
                "language": "sql",
                "vscode": {
                    "languageId": "sql"
                }
            },
            "outputs": [],
            "source": [
                "--4. Listázzuk a szálláshelyek azonosítóját, nevét és helyét!\n",
                "-- A listából hagyjuk ki azokat amelynek típusa panzió vagy vendégház\n",
                "-- Egy új oszlopban jelenítsük meg, hogy a szálláshely hány napra működik (Hány nap telt el a rögzítás óta)\n",
                "SELECT \n",
                "    SZALLAS_ID AS SzallasAzonosito,\n",
                "    SZALLAS_NEV AS SzallasNeve,\n",
                "    HELY AS Hely,\n",
                "    DATEDIFF(day, ROGZ_IDO, GETDATE()) AS MűködésNapjai\n",
                "FROM \n",
                "    Szallashely\n",
                "WHERE \n",
                "    TIPUS NOT IN ('panzió', 'vendégház')\n",
                "ORDER BY \n",
                "    MűködésNapjai DESC;"
            ]
        },
        {
            "cell_type": "code",
            "execution_count": null,
            "metadata": {
                "azdata_cell_guid": "ce5db001-8992-4504-a869-37efbfd04966",
                "language": "sql",
                "vscode": {
                    "languageId": "sql"
                }
            },
            "outputs": [],
            "source": [
                "--5. Listázzuk \"emese\" azonosítójú ügyfél foglalásainak azonosítóit és a foglalás kezdetének dátumát!\n",
                "--Egy új oszlopban jelenítsük meg hogy mi lenne a foglalás kezdőtátuma ha azt 1 hónappal kásőbbre tolnánk!\n",
                "--Az új oszlop neve legyen 'Módosított kezdődátum'\n",
                "SELECT \n",
                "    f.FOGLALAS_PK,\n",
                "    f.METTOL,\n",
                "    DATEADD(MONTH, 1, f.METTOL) AS [Módosított kezdődátum]\n",
                "FROM \n",
                "    Foglalas f\n",
                "JOIN \n",
                "    Vendeg v ON f.UGYFEL_FK = v.USERNEV\n",
                "WHERE \n",
                "    v.USERNEV = 'emese';\n"
            ]
        },
        {
            "cell_type": "code",
            "execution_count": null,
            "metadata": {
                "azdata_cell_guid": "72a92e81-e365-4ccf-b8d9-fbe14f0a5b50",
                "language": "sql",
                "vscode": {
                    "languageId": "sql"
                }
            },
            "outputs": [],
            "source": [
                "--6. Készítsen lekérdezést amely megjeleníti azon vendégek azonosítóját és nevét, akik 2017 ben többször foglaltak mint 2016-ban\n",
                "SELECT \n",
                "    f.UGYFEL_FK, \n",
                "    v.NEV\n",
                "FROM \n",
                "    Foglalas f \n",
                "JOIN \n",
                "    Vendeg v ON f.UGYFEL_FK = v.USERNEV\n",
                "WHERE \n",
                "    YEAR(f.METTOL) = 2017\n",
                "GROUP BY \n",
                "    f.UGYFEL_FK, v.NEV\n",
                "HAVING \n",
                "    COUNT(*) > (\n",
                "        SELECT COUNT(*) \n",
                "        FROM Foglalas f2 \n",
                "        WHERE \n",
                "            YEAR(f2.METTOL) = 2016 \n",
                "            AND f2.UGYFEL_FK = f.UGYFEL_FK\n",
                "    );\n"
            ]
        },
        {
            "cell_type": "code",
            "execution_count": null,
            "metadata": {
                "azdata_cell_guid": "7237107c-b10a-4c48-a658-e2a291720a5c",
                "language": "sql",
                "vscode": {
                    "languageId": "sql"
                }
            },
            "outputs": [],
            "source": [
                "--7. Készítsen lekérdezést, amely megjelíti, hogy szobánként(SZOBA_FK) hány olyan foglalás történt ahol a felnőttek száma nagyobb volt a gyerekek számánál.\n",
                "--A lekérdezés jelenítse meg a végössegeket is megfelelően jelölve\n",
                "--A lekérdezés eredménye XML-formátumban jelenjen meg, elemcentrikusan\n",
                "SELECT \n",
                "    IIF(GROUPING(SZOBA_FK) = 1, 'Összesen', CAST(SZOBA_FK AS NVARCHAR(10))) AS SZOBA_AZONOSITO,\n",
                "    COUNT(*) AS FOGLALASOK_SZAMA\n",
                "FROM \n",
                "    Foglalas\n",
                "WHERE \n",
                "    FELNOTT_SZAM > GYERMEK_SZAM\n",
                "GROUP BY \n",
                "    ROLLUP(SZOBA_FK)\n",
                "FOR XML PATH('Foglalas'), ROOT('Foglalasok'), ELEMENTS;"
            ]
        },
        {
            "cell_type": "code",
            "execution_count": null,
            "metadata": {
                "azdata_cell_guid": "8900a767-04f9-404e-ab28-ce4a9cd794eb",
                "language": "sql",
                "vscode": {
                    "languageId": "sql"
                }
            },
            "outputs": [],
            "source": [
                "--8. Listázzuk, hogy szálláshely típusonként, azon belül éves és havi bontásban hány foglalás történt?\n",
                "--Az év és hónap megjelítésénél a foglalás tábla METTOL oszlopát használjuk\n",
                "--A számolásnál csak a legalább 5 napos foglalásokat vegyük figyelembe\n",
                "--Az oszlopokat nevezzük el értelemszerűen\n",
                "SELECT \n",
                "    sz.TIPUS AS SzallashelyTipus,\n",
                "    YEAR(f.METTOL) AS Ev,\n",
                "    MONTH(f.METTOL) AS Honap,\n",
                "    COUNT(*) AS FoglalasokSzama\n",
                "FROM \n",
                "    Foglalas f\n",
                "JOIN \n",
                "    Szoba s ON f.SZOBA_FK = s.SZOBA_ID\n",
                "JOIN \n",
                "    Szallashely sz ON s.SZALLAS_FK = sz.SZALLAS_ID\n",
                "WHERE \n",
                "    DATEDIFF(DAY, f.METTOL, f.MEDDIG) >= 5\n",
                "GROUP BY \n",
                "    sz.TIPUS, YEAR(f.METTOL), MONTH(f.METTOL)\n",
                "ORDER BY \n",
                "    sz.TIPUS, Ev, Honap;"
            ]
        },
        {
            "cell_type": "code",
            "execution_count": null,
            "metadata": {
                "azdata_cell_guid": "ae63a345-6eb2-46a9-8860-a4e8d1de8aee",
                "language": "sql",
                "vscode": {
                    "languageId": "sql"
                }
            },
            "outputs": [],
            "source": [
                "--9. Jelenítsük meg azon ügyfelek nevét akik még sohasem foglalatak vagy volt foglalásuk de nem volt közöttük 2 napnál hosszab!\n",
                "-- 1. Azok, akiknek egyáltalán nincs foglalásuk\n",
                "SELECT DISTINCT v.NEV\n",
                "FROM Foglalas f\n",
                "RIGHT JOIN Vendeg v ON f.UGYFEL_FK = v.USERNEV\n",
                "WHERE f.FOGLALAS_PK IS NULL\n",
                "\n",
                "UNION\n",
                "\n",
                "-- 2. Azok, akiknek csak legfeljebb 2 napos foglalásaik voltak\n",
                "SELECT v.NEV\n",
                "FROM Foglalas f\n",
                "JOIN Vendeg v ON f.UGYFEL_FK = v.USERNEV\n",
                "GROUP BY v.NEV\n",
                "EXCEPT\n",
                "SELECT v.NEV\n",
                "FROM Foglalas f\n",
                "JOIN Vendeg v ON f.UGYFEL_FK = v.USERNEV\n",
                "WHERE DATEDIFF(DAY, f.METTOL, f.MEDDIG) > 2\n",
                "GROUP BY v.NEV;\n"
            ]
        },
        {
            "cell_type": "code",
            "execution_count": null,
            "metadata": {
                "azdata_cell_guid": "9c90265e-77fe-4bc5-9a4c-60175f515215",
                "language": "sql",
                "vscode": {
                    "languageId": "sql"
                }
            },
            "outputs": [],
            "source": [
                "--10. Az alábbi lekérdezés kiegészítésével készítsen listát arról hogy melyik ügyfél hányszor foglalt 2015 és 2016 között!\n",
                "--A listában az ügyfél neve és a foglalkozások száma jelenjen meg. A listát szűrjük azokra a tételekre ahol a foglalások száma 2-nél több.\n",
                "SELECT \n",
                "    v.NEV, \n",
                "    COUNT(*) AS DB\n",
                "FROM \n",
                "    Foglalas f\n",
                "JOIN \n",
                "    Vendeg v ON f.UGYFEL_FK = v.USERNEV\n",
                "WHERE \n",
                "    YEAR(f.METTOL) BETWEEN 2015 AND 2016\n",
                "GROUP BY \n",
                "    v.NEV\n",
                "HAVING \n",
                "    COUNT(*) > 2;\n"
            ]
        },
        {
            "cell_type": "code",
            "execution_count": null,
            "metadata": {
                "azdata_cell_guid": "e20fd7e6-2e9d-4f99-afdb-1665d10d3c70",
                "language": "python",
                "vscode": {
                    "languageId": "sql"
                }
            },
            "outputs": [],
            "source": [
                "--Cassandra datastax\n",
                "use \"Movies\";\n",
                "desc tables;\n",
                "desc movies_and_tv;\n",
                "\n",
                "CREATE INDEX i_release_year ON movies_and_tv(release_year);\n",
                "SELECT title \n",
                "FROM movies_and_tv \n",
                "WHERE release_year = 2010\n",
                "ORDER BY rating DESC\n",
                "LIMIT 10\n",
                "ALLOW FILTERING;"
            ]
        },
        {
            "cell_type": "code",
            "execution_count": null,
            "metadata": {
                "azdata_cell_guid": "4249ba3e-6461-40fe-9404-0df28b0569da",
                "language": "python",
                "vscode": {
                    "languageId": "sql"
                }
            },
            "outputs": [],
            "source": [
                "--MongoDB Atlas sample_mflix\n",
                "--Mely felhasználók email írtak nél több kommntet?\n",
                "db.comments.aggregate([\n",
                "  {\n",
                "    $group: {\n",
                "      _id: \"$email\",\n",
                "      commentCount: { $sum: 1 }\n",
                "    }\n",
                "  },\n",
                "  {\n",
                "    $match: {\n",
                "      commentCount: { $gt: 1 }\n",
                "    }\n",
                "  },\n",
                "  {\n",
                "    $sort: {\n",
                "      commentCount: -1\n",
                "    }\n",
                "  }\n",
                "])"
            ]
        },
        {
            "cell_type": "code",
            "execution_count": null,
            "metadata": {
                "azdata_cell_guid": "1231139e-1210-4dbc-9b2d-5d46a1346f95",
                "language": "python",
                "vscode": {
                    "languageId": "sql"
                }
            },
            "outputs": [],
            "source": [
                "--Neo4j SAndbox\n",
                "--Azok a személyek  akik nem szerepeltek egy filmben Tom Hanks-sel, egy szereplőneve csak egyszer szereplejen\n",
                "MATCH (tom:Person {name: 'Tom Hanks'})-[:ACTED_IN]->(movie:Movie)<-[:ACTED_IN]-(coactor:Person)\n",
                "WITH COLLECT(DISTINCT coactor) AS tom_coactors\n",
                "MATCH (person:Person)\n",
                "WHERE NOT person IN tom_coactors AND person.name <> 'Tom Hanks'\n",
                "RETURN DISTINCT person.name\n",
                "ORDER BY person.name"
            ]
        },
        {
            "cell_type": "code",
            "execution_count": null,
            "metadata": {
                "azdata_cell_guid": "e9f3fd2a-c45f-4592-b337-9628ddfb3701",
                "language": "python",
                "vscode": {
                    "languageId": "sql"
                }
            },
            "outputs": [],
            "source": [
                "--REDIS CLOUD,Új tábla létrehozása: IRO(ID, nev, nemzetiseg)KONYV(ID, cim,mufaj, IRO_ID)táblánként 2 sor adat\n",
                "HSET KONYV:1 ID 1 cim \"Harry Potter és a bölcsek köve\" mufaj \"fantasy\" IRO_ID 1\n",
                "\n",
                "HSET KONYV:2 ID 2 cim \"Ragyogás\" mufaj \"horror\" IRO_ID 2\n",
                "\n",
                "HSET IRO:1 ID 1 nev \"J.K. Rowling\" nemzetiseg \"brit\"\n",
                "\n",
                "HSET IRO:2 ID 2 nev \"Stephen King\" nemzetiseg \"amerikai\""
            ]
        }
    ],
    "metadata": {
        "kernelspec": {
            "display_name": "Python 3",
            "language": "python",
            "name": "python3"
        },
        "language_info": {
            "codemirror_mode": {
                "name": "ipython",
                "version": 3
            },
            "file_extension": ".py",
            "mimetype": "text/x-python",
            "name": "python",
            "nbconvert_exporter": "python",
            "pygments_lexer": "ipython3",
            "version": "3.13.0"
        }
    },
    "nbformat": 4,
    "nbformat_minor": 2
}
