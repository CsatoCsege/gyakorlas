{
    "metadata": {
        "kernelspec": {
            "name": "SQL",
            "display_name": "SQL",
            "language": "sql"
        },
        "language_info": {
            "name": "sql",
            "version": ""
        }
    },
    "nbformat_minor": 2,
    "nbformat": 4,
    "cells": [
        {
            "cell_type": "markdown",
            "source": [
                "1. <span style=\"background-color: rgb(255, 255, 255); color: rgb(0, 0, 0); font-family: &quot;Open Sans&quot;, sans-serif; font-size: 14.44px;\">Készítsünk sorszámozott listát a szálláshelyek adatairól!&nbsp;</span> \n",
                "\n",
                "a. A lista legyen a szálláshely típusa szerint, azon belül hely szerint, majd a neve szerint növekvően rendezve! \n",
                "\n",
                "b. A számozás típusonként kezdődjön újra!"
            ],
            "metadata": {
                "azdata_cell_guid": "363cd270-6577-449b-9c89-d4b7c7972d52"
            },
            "attachments": {}
        },
        {
            "cell_type": "code",
            "source": [
                "SELECT ROW_NUMBER() \r\n",
                "       OVER(PARTITION BY TIPUS ORDER BY HELY, SZALLAS_NEV) AS 'Sorsz',\r\n",
                "       *\r\n",
                "FROM Szallashely\r\n",
                "ORDER BY TIPUS, HELY, SZALLAS_NEV"
            ],
            "metadata": {
                "azdata_cell_guid": "6ab9f633-a3b5-48c9-a1dc-4fb8235ae85b",
                "language": "sql"
            },
            "outputs": [],
            "execution_count": null
        },
        {
            "cell_type": "markdown",
            "source": [
                "2. <span style=\"background-color: rgb(255, 255, 255); color: rgb(0, 0, 0); font-family: &quot;Open Sans&quot;, sans-serif; font-size: 14.44px;\">Készítsünk lekérdezést, amely a foglalások adatait jeleníti meg!&nbsp;</span> \n",
                "\n",
                "a. A lista tartalmazzon két új oszlopot, amelyek az adott ügyfél legrövidebb, illetve leghosszabb foglalásának hosszát (a foglalt napok számát) mutatják meg! \n",
                "\n",
                "b. Az oszlopokat nevezzük el értelemszerűen!"
            ],
            "metadata": {
                "azdata_cell_guid": "ea75c103-911f-41a3-a32c-3d40fb3e4e4a"
            },
            "attachments": {}
        },
        {
            "cell_type": "code",
            "source": [
                "SELECT *,\r\n",
                "       MIN(DATEDIFF(DAY, METTOL, MEDDIG)) \r\n",
                "\t   OVER(PARTITION BY UGYFEL_FK) AS 'Legrövidebb foglalás',\r\n",
                "\t   MAX(DATEDIFF(DAY, METTOL, MEDDIG)) \r\n",
                "\t   OVER(PARTITION BY UGYFEL_FK) AS 'Leghosszabb foglalás'\r\n",
                "FROM Foglalas"
            ],
            "metadata": {
                "azdata_cell_guid": "222b9618-a8e8-42b4-a8e8-d002257122b7",
                "language": "sql"
            },
            "outputs": [],
            "execution_count": null
        },
        {
            "cell_type": "markdown",
            "source": [
                "```\n",
                "3. Készítsük listát, amely megjeleníti az ügyfelek azonosítóját, nevét és a foglalásainak kezdő- és befejező dátumát, valamint azt, hogy a foglalás összesen hány főre történt! \n",
                "```\n",
                "\n",
                "a. Egy új oszlopban jelenítsük meg azt is, hogy az ügyfél előző három foglalása összesen hány főre történt!\n",
                "\n",
                "![](https://moodle.uni-corvinus.hu/theme/image.php/adaptable/atto_h5p/1709548862/icon)"
            ],
            "metadata": {
                "azdata_cell_guid": "d7876bb9-76d0-4d07-baed-3cb17b2f96c3"
            },
            "attachments": {}
        },
        {
            "cell_type": "code",
            "source": [
                "SELECT v.USERNEV, v.NEV, f.METTOL, f.MEDDIG,\r\n",
                "       f.FELNOTT_SZAM + f.GYERMEK_SZAM AS 'Személyek száma',\r\n",
                "\t   SUM(f.FELNOTT_SZAM+f.GYERMEK_SZAM)\r\n",
                "\t   OVER(PARTITION BY f.UGYFEL_FK ORDER BY FOGLALAS_PK\r\n",
                "\t   ROWS BETWEEN 3 PRECEDING AND 1 PRECEDING) \r\n",
                "\t   AS 'Személyek száma összesen az előző 3 foglalás alapján'\r\n",
                "FROM Vendeg v JOIN Foglalas f ON f.UGYFEL_FK = v.USERNEV"
            ],
            "metadata": {
                "azdata_cell_guid": "56ec19ce-e249-4551-b2a8-f17569765acc",
                "language": "sql"
            },
            "outputs": [],
            "execution_count": null
        },
        {
            "cell_type": "markdown",
            "source": [
                "4. <span style=\"background-color: rgb(255, 255, 255); color: rgb(0, 0, 0); font-family: &quot;Open Sans&quot;, sans-serif; font-size: 14.44px;\">Készítsünk listát arról, hogy az egyes szálláshelyeken évente hány foglalás történt!&nbsp;</span> \n",
                "\n",
                "a. A lista jelenítse meg a szálláshely azonosítóját, nevét, az évet, és a foglalások számát!\n",
                "\n",
                "b. Egy új oszlopban jelenítsük meg a szálláshely eddigi éves foglalásainak számát is (az aktuálisat is beleértve). \n",
                "\n",
                "c. Az évnél a METTOL dátumot vegyük figyelembe! \n",
                "\n",
                "d. A lista ne tartalmazzon duplikált sorokat!"
            ],
            "metadata": {
                "azdata_cell_guid": "8e7fef82-8022-49a0-8255-fc2846c2134b"
            },
            "attachments": {}
        },
        {
            "cell_type": "code",
            "source": [
                "SELECT DISTINCT sz.SZALLAS_ID, sz.SZALLAS_NEV, YEAR(f.METTOL) AS 'ÉV',\r\n",
                "       COUNT(*) OVER(PARTITION BY sz.SZALLAS_ID, YEAR(f.METTOL)) \r\n",
                "\t   AS 'Éves foglalásszám',\r\n",
                "\t   COUNT(*) OVER(PARTITION BY sz.SZALLAS_ID ORDER BY YEAR(f.METTOL) \r\n",
                "\t   RANGE BETWEEN UNBOUNDED PRECEDING AND CURRENT ROW)\r\n",
                "\t   AS 'Eddigi éves foglalásszám összesen'\r\n",
                "FROM Foglalas f JOIN Szallashely sz ON f.SZOBA_FK = sz.SZALLAS_ID"
            ],
            "metadata": {
                "azdata_cell_guid": "36f7b396-4a1f-45e5-8720-2302537c91bc",
                "language": "sql"
            },
            "outputs": [],
            "execution_count": null
        },
        {
            "cell_type": "markdown",
            "source": [
                "5. <span style=\"background-color: rgb(255, 255, 255); color: rgb(0, 0, 0); font-family: &quot;Open Sans&quot;, sans-serif; font-size: 14.44px;\">Készítsük listát a szálláshelyekről! A lista tartalmazza a szálláshely azonosítóját, nevét, és a csillagok számát csillagszám szerint csökkenő, azon belül szállásnév szerint növekvő sorrendben!&nbsp;</span> \n",
                "\n",
                "a. Vegyünk fel két új oszlopot, amely a sorrend szerint előző szálláshely nevét, illetve azonosítóját is megjeleníti!"
            ],
            "metadata": {
                "azdata_cell_guid": "84239ca2-6b5e-49f5-9860-d44c11d6de32"
            },
            "attachments": {}
        },
        {
            "cell_type": "code",
            "source": [
                "SELECT  SZALLAS_ID, SZALLAS_NEV, CSILLAGOK_SZAMA, \r\n",
                "        LAG(szallas_nev) OVER (ORDER BY CSILLAGOK_SZAMA DESC, \r\n",
                "\t\tszallas_nev) \r\n",
                "\t\tAS 'Előző szállás neve',\r\n",
                "\t\tLAG(szallas_id) OVER (ORDER BY CSILLAGOK_SZAMA DESC, \r\n",
                "\t\tszallas_nev) \r\n",
                "\t\tAS 'Előző szállás azonosítója'\t\t\r\n",
                "FROM Szallashely \r\n",
                "--ORDER BY CSILLAGOK_SZAMA DESC, SZALLAS_NEV"
            ],
            "metadata": {
                "azdata_cell_guid": "06d9a62b-9430-424b-a135-d80e675f0eb3",
                "language": "sql"
            },
            "outputs": [],
            "execution_count": null
        },
        {
            "cell_type": "markdown",
            "source": [
                "6. <span style=\"background-color: rgb(255, 255, 255); color: rgb(0, 0, 0); font-family: &quot;Open Sans&quot;, sans-serif; font-size: 14.44px;\">Listázzuk azon termékeket, amelyekből az átlagosnál kevesebb van raktáron!&nbsp;</span> \n",
                "\n",
                "a. Csak a termék kódja és megnevezése jelenjen meg!"
            ],
            "metadata": {
                "azdata_cell_guid": "b0d15045-3c43-4f3a-b8d4-76b4f24e5546"
            },
            "attachments": {}
        },
        {
            "cell_type": "code",
            "source": [
                "SELECT termekkod, megnevezes\r\n",
                "FROM Termek\r\n",
                "WHERE keszlet <\r\n",
                "(\r\n",
                " SELECT AVG(keszlet)\r\n",
                " FROM Termek\r\n",
                ")"
            ],
            "metadata": {
                "azdata_cell_guid": "f2b7400d-1255-40ac-9250-4d57f9da5357",
                "language": "sql"
            },
            "outputs": [],
            "execution_count": null
        },
        {
            "cell_type": "markdown",
            "source": [
                "7. <span style=\"background-color: rgb(255, 255, 255); color: rgb(0, 0, 0); font-family: &quot;Open Sans&quot;, sans-serif; font-size: 14.44px;\">Listázzuk azon ügyfeleket, akik még nem fizettek bankkártyával!&nbsp;</span> \n",
                "\n",
                "a. Csak az ügyfelek neve jelenjen meg!"
            ],
            "metadata": {
                "azdata_cell_guid": "7ebf7ddd-1bd2-4246-815a-be8ae37e3b5b"
            },
            "attachments": {}
        },
        {
            "cell_type": "code",
            "source": [
                "SELECT u.nev\r\n",
                "FROM Ugyfel u\r\n",
                "WHERE NOT EXISTS\r\n",
                "(\r\n",
                " SELECT *\r\n",
                " FROM Rendeles r JOIN Ugyfel u2 ON r.LOGIN = u2.LOGIN\r\n",
                " WHERE u.LOGIN = u2.LOGIN AND r.FIZ_MOD ='Bankkártya'\r\n",
                ")"
            ],
            "metadata": {
                "azdata_cell_guid": "84b7e896-f36e-4985-88f5-e0f706494fef",
                "language": "sql",
                "tags": []
            },
            "outputs": [],
            "execution_count": null
        },
        {
            "cell_type": "markdown",
            "source": [
                "8. <span style=\"background-color: rgb(255, 255, 255); color: rgb(0, 0, 0); font-family: &quot;Open Sans&quot;, sans-serif; font-size: 14.44px;\">Mennyibe kerül a második legnagyobb listaárú termék?</span>"
            ],
            "metadata": {
                "azdata_cell_guid": "27a3d3dc-eafb-4a5e-b103-9f465b9eda8f"
            },
            "attachments": {}
        },
        {
            "cell_type": "code",
            "source": [
                "SELECT max(listaar)\r\n",
                "FROM Termek \r\n",
                "WHERE listaar <\r\n",
                "(\r\n",
                " SELECT max(LISTAAR)\r\n",
                " FROM Termek\r\n",
                ")"
            ],
            "metadata": {
                "azdata_cell_guid": "f09edb3f-649b-4a96-958e-9e12774ae8b7",
                "language": "sql"
            },
            "outputs": [],
            "execution_count": null
        },
        {
            "cell_type": "markdown",
            "source": [
                "9. <span style=\"background-color: rgb(255, 255, 255); color: rgb(0, 0, 0); font-family: &quot;Open Sans&quot;, sans-serif; font-size: 14.44px;\">Melyik raktár(ak)ban van az a termék, amelyből a legnagyobb készlet van?&nbsp;</span> \n",
                "\n",
                "a. Csak a raktár(ak) neve jelenjen meg!"
            ],
            "metadata": {
                "azdata_cell_guid": "f12a331a-0e26-4d3d-9c68-812316286577"
            },
            "attachments": {}
        },
        {
            "cell_type": "code",
            "source": [
                "SELECT r.RAKTAR_NEV\r\n",
                "FROM Raktar r JOIN Termek t ON r.RAKTAR_KOD = t.RAKTAR_KOD\r\n",
                "WHERE t.keszlet =\r\n",
                "(\r\n",
                "  SELECT MAX(keszlet)\r\n",
                "  FROM Termek\r\n",
                ")"
            ],
            "metadata": {
                "azdata_cell_guid": "10a77fc9-e61a-46fc-a401-59720d82bc50",
                "language": "sql"
            },
            "outputs": [
                {
                    "output_type": "display_data",
                    "data": {
                        "text/html": "(2 rows affected)"
                    },
                    "metadata": {}
                },
                {
                    "output_type": "display_data",
                    "data": {
                        "text/html": "Total execution time: 00:00:00.012"
                    },
                    "metadata": {}
                },
                {
                    "output_type": "execute_result",
                    "metadata": {},
                    "execution_count": 4,
                    "data": {
                        "application/vnd.dataresource+json": {
                            "schema": {
                                "fields": [
                                    {
                                        "name": "RAKTAR_NEV"
                                    }
                                ]
                            },
                            "data": [
                                {
                                    "RAKTAR_NEV": "Veresegyházi"
                                },
                                {
                                    "RAKTAR_NEV": "Báthory"
                                }
                            ]
                        },
                        "text/html": [
                            "<table>",
                            "<tr><th>RAKTAR_NEV</th></tr>",
                            "<tr><td>Veresegyházi</td></tr>",
                            "<tr><td>Báthory</td></tr>",
                            "</table>"
                        ]
                    }
                }
            ],
            "execution_count": 4
        },
        {
            "cell_type": "markdown",
            "source": [
                "10. <span style=\"background-color: rgb(255, 255, 255); color: rgb(0, 0, 0); font-family: &quot;Open Sans&quot;, sans-serif; font-size: 14.44px;\">Melyek azok a termékek, amelyek listaára nagyobb, mint bármelyik olyan terméké, amelynek nevében az Ajándék szó szerepel?&nbsp;</span> \n",
                "\n",
                "a. A termékek kódját és nevét is jelenítsük meg!"
            ],
            "metadata": {
                "azdata_cell_guid": "9229e2b6-e200-4499-b95b-2d0222149831"
            },
            "attachments": {}
        },
        {
            "cell_type": "code",
            "source": [
                "SELECT MEGNEVEZES\r\n",
                "FROM Termek \r\n",
                "WHERE LISTAAR > ALL\r\n",
                "(\r\n",
                " SELECT LISTAAR\r\n",
                " FROM Termek\r\n",
                " WHERE MEGNEVEZES LIKE '%Ajándék%'\r\n",
                ")"
            ],
            "metadata": {
                "azdata_cell_guid": "8b49ed67-28c6-4880-82a8-cd369e5bba99",
                "language": "sql"
            },
            "outputs": [],
            "execution_count": null
        },
        {
            "cell_type": "markdown",
            "source": [
                "11. <span style=\"background-color: rgb(255, 255, 255); color: rgb(0, 0, 0); font-family: &quot;Open Sans&quot;, sans-serif; font-size: 14.44px;\">Melyik hónapokban adtak le az ügyfelek több rendelést, mint januárban?&nbsp;</span> \n",
                "\n",
                "a. Elég a hónapok sorszámait megjeleníteni. \n",
                "\n",
                "b. A listát rendezzük a hónapok száma szerint növekvő sorrendbe!"
            ],
            "metadata": {
                "azdata_cell_guid": "7f5fc7a7-3b6a-4d89-b292-490830afb0c6"
            },
            "attachments": {}
        },
        {
            "cell_type": "code",
            "source": [
                "SELECT MONTH(rend_datum)\r\n",
                "FROM Rendeles\r\n",
                "GROUP BY MONTH(rend_datum)\r\n",
                "HAVING COUNT(*)>\r\n",
                "(\r\n",
                " SELECT COUNT(*)\r\n",
                " FROM Rendeles\r\n",
                " WHERE MONTH(rend_datum)=1\r\n",
                ")\r\n",
                "ORDER BY 1"
            ],
            "metadata": {
                "azdata_cell_guid": "4a9ece40-f782-4c0d-92cd-9c21969067ed",
                "language": "sql"
            },
            "outputs": [
                {
                    "output_type": "display_data",
                    "data": {
                        "text/html": "(5 rows affected)"
                    },
                    "metadata": {}
                },
                {
                    "output_type": "display_data",
                    "data": {
                        "text/html": "Total execution time: 00:00:00.029"
                    },
                    "metadata": {}
                },
                {
                    "output_type": "execute_result",
                    "metadata": {},
                    "execution_count": 5,
                    "data": {
                        "application/vnd.dataresource+json": {
                            "schema": {
                                "fields": [
                                    {
                                        "name": "(No column name)"
                                    }
                                ]
                            },
                            "data": [
                                {
                                    "(No column name)": "3"
                                },
                                {
                                    "(No column name)": "7"
                                },
                                {
                                    "(No column name)": "8"
                                },
                                {
                                    "(No column name)": "10"
                                },
                                {
                                    "(No column name)": "12"
                                }
                            ]
                        },
                        "text/html": [
                            "<table>",
                            "<tr><th>(No column name)</th></tr>",
                            "<tr><td>3</td></tr>",
                            "<tr><td>7</td></tr>",
                            "<tr><td>8</td></tr>",
                            "<tr><td>10</td></tr>",
                            "<tr><td>12</td></tr>",
                            "</table>"
                        ]
                    }
                }
            ],
            "execution_count": 5
        },
        {
            "cell_type": "markdown",
            "source": [
                "12. <span style=\"background-color: rgb(255, 255, 255); color: rgb(0, 0, 0); font-family: &quot;Open Sans&quot;, sans-serif; font-size: 14.44px;\">Melyek azok a termékek, amelyek listaára az átlagostól max. 20%-kal tér el?&nbsp;</span> \n",
                "\n",
                "a. A termék kódját és nevét is jelenítsük meg!"
            ],
            "metadata": {
                "azdata_cell_guid": "5a483c52-bb98-44bb-bd03-1146d4b0abfa"
            },
            "attachments": {}
        },
        {
            "cell_type": "code",
            "source": [
                "SELECT termekkod, megnevezes\r\n",
                "FROM Termek \r\n",
                "WHERE LISTAAR >=\r\n",
                "(\r\n",
                " SELECT 0.8*AVG(listaar)\r\n",
                " FROM Termek\r\n",
                ")\r\n",
                "\r\n",
                "AND LISTAAR <=\r\n",
                "(\r\n",
                " SELECT 1.2*AVG(listaar)\r\n",
                " FROM Termek\r\n",
                ")"
            ],
            "metadata": {
                "azdata_cell_guid": "dd6e89bd-08f9-4b18-8460-03c45b503df0",
                "language": "sql"
            },
            "outputs": [
                {
                    "output_type": "display_data",
                    "data": {
                        "text/html": "(26 rows affected)"
                    },
                    "metadata": {}
                },
                {
                    "output_type": "display_data",
                    "data": {
                        "text/html": "Total execution time: 00:00:00.048"
                    },
                    "metadata": {}
                },
                {
                    "output_type": "execute_result",
                    "metadata": {},
                    "execution_count": 6,
                    "data": {
                        "application/vnd.dataresource+json": {
                            "schema": {
                                "fields": [
                                    {
                                        "name": "termekkod"
                                    },
                                    {
                                        "name": "megnevezes"
                                    }
                                ]
                            },
                            "data": [
                                {
                                    "termekkod": "01100094T",
                                    "megnevezes": "Fénymásoló papír DataCopy"
                                },
                                {
                                    "termekkod": "01100095T",
                                    "megnevezes": "Fénymásoló papír GetCopy"
                                },
                                {
                                    "termekkod": "01100096T",
                                    "megnevezes": "Fénymásoló papír Qconnect"
                                },
                                {
                                    "termekkod": "01100505T",
                                    "megnevezes": "Fehér másoló A/4"
                                },
                                {
                                    "termekkod": "02040194T",
                                    "megnevezes": "Hibajav.roll.Pritt 4,2mm"
                                },
                                {
                                    "termekkod": "02060038T",
                                    "megnevezes": "Bélyegző IDEAL 50"
                                },
                                {
                                    "termekkod": "02060039T",
                                    "megnevezes": "Bélyegző párna"
                                },
                                {
                                    "termekkod": "02080454T",
                                    "megnevezes": "Lyukasztó BOXER"
                                },
                                {
                                    "termekkod": "04020445T",
                                    "megnevezes": "Határidő napló 2010-s"
                                },
                                {
                                    "termekkod": "06040186T",
                                    "megnevezes": "Gyűrűskönyv színes"
                                },
                                {
                                    "termekkod": "06040382T",
                                    "megnevezes": "Táblafilc"
                                },
                                {
                                    "termekkod": "06040392T",
                                    "megnevezes": "Tolltartó 1 zipzáros"
                                },
                                {
                                    "termekkod": "06040393T",
                                    "megnevezes": "Tolltartó 2 részes NG."
                                },
                                {
                                    "termekkod": "06040395T",
                                    "megnevezes": "Tolltartó 2 zipzáros töltött"
                                },
                                {
                                    "termekkod": "06040397T",
                                    "megnevezes": "Tolltartó asztali"
                                },
                                {
                                    "termekkod": "06080188T",
                                    "megnevezes": "Hegyező gép"
                                },
                                {
                                    "termekkod": "07040135T",
                                    "megnevezes": "G.toll betét Parker "
                                },
                                {
                                    "termekkod": "07040167T",
                                    "megnevezes": "Golyóstoll Zebra mini"
                                },
                                {
                                    "termekkod": "07080158T",
                                    "megnevezes": "Golyóstoll Parker tokban"
                                },
                                {
                                    "termekkod": "08070478T",
                                    "megnevezes": "Összefoglaló feladatgyüjtemény számtech."
                                },
                                {
                                    "termekkod": "08070479T",
                                    "megnevezes": "Fizika"
                                },
                                {
                                    "termekkod": "08070489T",
                                    "megnevezes": "RAMba zárt világ"
                                },
                                {
                                    "termekkod": "08070490T",
                                    "megnevezes": "Szövegszerkesztés"
                                },
                                {
                                    "termekkod": "08070492T",
                                    "megnevezes": "Informatika"
                                },
                                {
                                    "termekkod": "08070493T",
                                    "megnevezes": "Érettségi felv. fel. Matematika"
                                },
                                {
                                    "termekkod": "N019-FE301",
                                    "megnevezes": "női alsó"
                                }
                            ]
                        },
                        "text/html": [
                            "<table>",
                            "<tr><th>termekkod</th><th>megnevezes</th></tr>",
                            "<tr><td>01100094T</td><td>Fénymásoló papír DataCopy</td></tr>",
                            "<tr><td>01100095T</td><td>Fénymásoló papír GetCopy</td></tr>",
                            "<tr><td>01100096T</td><td>Fénymásoló papír Qconnect</td></tr>",
                            "<tr><td>01100505T</td><td>Fehér másoló A/4</td></tr>",
                            "<tr><td>02040194T</td><td>Hibajav.roll.Pritt 4,2mm</td></tr>",
                            "<tr><td>02060038T</td><td>Bélyegző IDEAL 50</td></tr>",
                            "<tr><td>02060039T</td><td>Bélyegző párna</td></tr>",
                            "<tr><td>02080454T</td><td>Lyukasztó BOXER</td></tr>",
                            "<tr><td>04020445T</td><td>Határidő napló 2010-s</td></tr>",
                            "<tr><td>06040186T</td><td>Gyűrűskönyv színes</td></tr>",
                            "<tr><td>06040382T</td><td>Táblafilc</td></tr>",
                            "<tr><td>06040392T</td><td>Tolltartó 1 zipzáros</td></tr>",
                            "<tr><td>06040393T</td><td>Tolltartó 2 részes NG.</td></tr>",
                            "<tr><td>06040395T</td><td>Tolltartó 2 zipzáros töltött</td></tr>",
                            "<tr><td>06040397T</td><td>Tolltartó asztali</td></tr>",
                            "<tr><td>06080188T</td><td>Hegyező gép</td></tr>",
                            "<tr><td>07040135T</td><td>G.toll betét Parker </td></tr>",
                            "<tr><td>07040167T</td><td>Golyóstoll Zebra mini</td></tr>",
                            "<tr><td>07080158T</td><td>Golyóstoll Parker tokban</td></tr>",
                            "<tr><td>08070478T</td><td>Összefoglaló feladatgyüjtemény számtech.</td></tr>",
                            "<tr><td>08070479T</td><td>Fizika</td></tr>",
                            "<tr><td>08070489T</td><td>RAMba zárt világ</td></tr>",
                            "<tr><td>08070490T</td><td>Szövegszerkesztés</td></tr>",
                            "<tr><td>08070492T</td><td>Informatika</td></tr>",
                            "<tr><td>08070493T</td><td>Érettségi felv. fel. Matematika</td></tr>",
                            "<tr><td>N019-FE301</td><td>női alsó</td></tr>",
                            "</table>"
                        ]
                    }
                }
            ],
            "execution_count": 6
        },
        {
            "cell_type": "markdown",
            "source": [
                "13. <span style=\"background-color: rgb(255, 255, 255); color: rgb(0, 0, 0); font-family: &quot;Open Sans&quot;, sans-serif; font-size: 14.44px;\">Készítsünk listát (sorszámonként) az egyes rendelések teljes összegéről!&nbsp;</span> \n",
                "\n",
                "a. Szűrjünk azon tételekre, ahol ez az érték nagyobb, mint Viktor Éva rendeléseinek teljes összege! \n",
                "\n",
                "b. A teljes összeg oszlopot nevezzük el értelemszerűen!"
            ],
            "metadata": {
                "azdata_cell_guid": "85d5cb66-96c6-42de-99cf-85ab22d08548"
            },
            "attachments": {}
        },
        {
            "cell_type": "code",
            "source": [
                "SELECT r.SORSZAM, SUM(rt.MENNYISEG*rt.EGYSEGAR) AS 'Rendelés összege'\r\n",
                "FROM Rendeles r JOIN Rendeles_tetel rt ON r.SORSZAM = rt.SORSZAM\r\n",
                "GROUP BY r.SORSZAM\r\n",
                "HAVING SUM(rt.MENNYISEG*rt.EGYSEGAR)>\r\n",
                "(\r\n",
                " SELECT SUM(rt.MENNYISEG*rt.EGYSEGAR)\r\n",
                " FROM Rendeles r JOIN Rendeles_tetel rt ON r.SORSZAM = rt.SORSZAM\r\n",
                "      JOIN Ugyfel u ON r.LOGIN = u.LOGIN\r\n",
                " WHERE u.NEV='Viktor Éva'\r\n",
                ")\r\n",
                ""
            ],
            "metadata": {
                "azdata_cell_guid": "cb07d64b-0eaa-498b-b4d2-0b46971e95ce",
                "language": "sql"
            },
            "outputs": [],
            "execution_count": null
        },
        {
            "cell_type": "markdown",
            "source": [
                "14. <span style=\"background-color: rgb(255, 255, 255); color: rgb(0, 0, 0); font-family: &quot;Open Sans&quot;, sans-serif; font-size: 14.44px;\">Listázzuk azokat a termékkategóriákat, amelyből 2017 januárban nem történt rendelés!&nbsp;</span> \n",
                "\n",
                "a. Elég a kategóriák nevét megjeleníteni!"
            ],
            "metadata": {
                "azdata_cell_guid": "f95ad665-a807-4099-bf06-64ed974f866f"
            },
            "attachments": {}
        },
        {
            "cell_type": "code",
            "source": [
                "SELECT tk.KAT_NEV\r\n",
                "FROM Termekkategoria tk \r\n",
                "WHERE tk.KAT_ID NOT IN\r\n",
                "(\r\n",
                " SELECT t.KAT_ID\r\n",
                " FROM Rendeles r JOIN Rendeles_tetel rt ON r.SORSZAM = rt.SORSZAM\r\n",
                "      JOIN Termek t ON rt.TERMEKKOD = t.TERMEKKOD\r\n",
                " WHERE tk.KAT_ID = t.KAT_ID \r\n",
                "       AND r.REND_DATUM BETWEEN '2017.01.01' AND '2017.01.31'\r\n",
                ")"
            ],
            "metadata": {
                "azdata_cell_guid": "74c7ec8a-ae4a-4d03-b1c4-e8f6bb1be12c",
                "language": "sql"
            },
            "outputs": [],
            "execution_count": null
        },
        {
            "cell_type": "markdown",
            "source": [
                "15. <span style=\"background-color: rgb(255, 255, 255); color: rgb(0, 0, 0); font-family: &quot;Open Sans&quot;, sans-serif; font-size: 14.44px;\">Listázzuk azon rendelési tételeket, amelynek értéke nagyobb, mint a legdrágább termék listaára azon termékek közül, amelyek szülő kategóriája a ruha!</span>"
            ],
            "metadata": {
                "azdata_cell_guid": "93552388-ffec-49ff-99e5-ae8dc8072601"
            },
            "attachments": {}
        },
        {
            "cell_type": "code",
            "source": [
                "SELECT rt.*\r\n",
                "FROM Rendeles_tetel rt\r\n",
                "WHERE rt.MENNYISEG * rt.EGYSEGAR >\r\n",
                "(\r\n",
                "  SELECT max(t.listaar)\r\n",
                "  FROM Termek t\r\n",
                "  WHERE t.KAT_ID IN\r\n",
                "  (\r\n",
                "    SELECT tk.kat_id\r\n",
                "\tFROM Termekkategoria tk\r\n",
                "\t     JOIN Termekkategoria tk2 ON tk.SZULO_KAT = tk2.KAT_ID\r\n",
                "\tWHERE tk2.KAT_NEV='ruha'\r\n",
                "  )\r\n",
                ")"
            ],
            "metadata": {
                "azdata_cell_guid": "0e7f547f-7d96-4611-b1c2-0fa84a581e79",
                "language": "sql"
            },
            "outputs": [],
            "execution_count": null
        }
    ]
}